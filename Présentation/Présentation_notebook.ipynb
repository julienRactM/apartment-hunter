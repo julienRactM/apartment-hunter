{
 "cells": [
  {
   "cell_type": "markdown",
   "metadata": {
    "slideshow": {
     "slide_type": "slide"
    }
   },
   "source": [
    "# Apartment-Hunter La Plateforme Project"
   ]
  },
  {
   "cell_type": "markdown",
   "metadata": {
    "slideshow": {
     "slide_type": "subslide"
    }
   },
   "source": [
    "<!-- ![Racoon](img/f27393d6-4d5f-4d72-bcfc-87ccfa0fc3a7.jpg) -->\n",
    "\n",
    "<img src=\"img/f27393d6-4d5f-4d72-bcfc-87ccfa0fc3a7.jpg\" alt=\"Racoon Deter\" width=\"84%\">"
   ]
  },
  {
   "cell_type": "markdown",
   "metadata": {
    "slideshow": {
     "slide_type": "subslide"
    }
   },
   "source": [
    "## Roadmap\n",
    "![Planning](img/planning.png)"
   ]
  },
  {
   "cell_type": "markdown",
   "metadata": {
    "slideshow": {
     "slide_type": "subslide"
    }
   },
   "source": [
    "\n",
    "<!-- ![skunk](img/0809d60c-1371-403d-9f07-060e5058537d.jpg) -->\n",
    "<!-- adc2543e-97cc-4b1c-b70c-1b8588d74ba4.jpg -->\n",
    "\n",
    "<img src=\"img/0809d60c-1371-403d-9f07-060e5058537d.jpg\" alt=\"skunk\" width=\"84%\">"
   ]
  },
  {
   "cell_type": "markdown",
   "metadata": {
    "slideshow": {
     "slide_type": "slide"
    }
   },
   "source": [
    "## Data Exploration"
   ]
  },
  {
   "cell_type": "markdown",
   "metadata": {
    "slideshow": {
     "slide_type": "fragment"
    }
   },
   "source": [
    "### Choosing a Dataset\n",
    "\n",
    "#### Madrid Pros : \n",
    "- A hefty number of features (58)\n",
    "- Some features are available only in this dataset (has_parking , rent_price = cheating)\n"
   ]
  },
  {
   "cell_type": "markdown",
   "metadata": {
    "slideshow": {
     "slide_type": "fragment"
    }
   },
   "source": [
    "#### Madrid Cons : \n",
    "- Questionable dataset quality\n",
    "- ex: 24% of listed houses have pools while only 8% have gardens.\n",
    "- Only 26/58 features contain under 30% missing values.\n",
    "- Both features mentioned earlier, has_parking and rent_price are empty.\n",
    "- Some useful features in the other dataset aren't available in this one. \n"
   ]
  },
  {
   "cell_type": "markdown",
   "metadata": {
    "slideshow": {
     "slide_type": "subslide"
    }
   },
   "source": [
    "#### kc Pros : \n",
    "- Overall the dataset is of better quality\n",
    "- No missing data, very few duplicates\n",
    "- About as many exploitable values as in the Madrid Dataset\n"
   ]
  },
  {
   "cell_type": "markdown",
   "metadata": {
    "slideshow": {
     "slide_type": "fragment"
    }
   },
   "source": [
    "#### kc Cons : \n",
    "- Some useful features in the other dataset aren't available in this one. \n",
    "- Has probably already been cleaned by someone else, which mean possible human errors."
   ]
  },
  {
   "cell_type": "markdown",
   "metadata": {
    "slideshow": {
     "slide_type": "subslide"
    }
   },
   "source": [
    "#### **The Decision**"
   ]
  },
  {
   "cell_type": "markdown",
   "metadata": {
    "slideshow": {
     "slide_type": "fragment"
    }
   },
   "source": [
    "**For all the reasons listed earlier, we will be choosing the kc dataset, mainly because he has a very high Trust index compared to the Madrid one.**"
   ]
  },
  {
   "cell_type": "markdown",
   "metadata": {
    "slideshow": {
     "slide_type": "subslide"
    }
   },
   "source": [
    "<!-- ![Pandas](img/adc2543e-97cc-4b1c-b70c-1b8588d74ba4.jpg) -->\n",
    "<img src=\"img/adc2543e-97cc-4b1c-b70c-1b8588d74ba4.jpg\" alt=\"Pandas\" width=\"84%\">"
   ]
  },
  {
   "cell_type": "markdown",
   "metadata": {
    "slideshow": {
     "slide_type": "slide"
    }
   },
   "source": [
    "## Data Cleaning"
   ]
  },
  {
   "cell_type": "markdown",
   "metadata": {
    "slideshow": {
     "slide_type": "subslide"
    }
   },
   "source": [
    "### Duplicates\n",
    "We do observe a small amount of duplicates in which only the price of the house change, we end up keeping the last sells."
   ]
  },
  {
   "cell_type": "markdown",
   "metadata": {
    "slideshow": {
     "slide_type": "fragment"
    }
   },
   "source": [
    "### Categorical Features\n",
    "\n",
    "For most of those features, we ends up dropping classes at either ends of their spectrum."
   ]
  },
  {
   "cell_type": "markdown",
   "metadata": {
    "slideshow": {
     "slide_type": "subslide"
    }
   },
   "source": [
    "### Grade\n",
    "We end up dropping Grade classes 3-4 of and 12-13 because of their low representation, and questionable distribution in the higher end ones.\n",
    "\n",
    "in the class \"13\" the range of price can go as far as 2 millions, which could disturb our predictions.\n",
    "![Planning](img/price-grade.png)"
   ]
  },
  {
   "cell_type": "markdown",
   "metadata": {
    "slideshow": {
     "slide_type": "subslide"
    }
   },
   "source": [
    "### Numerical Features\n",
    "\n",
    "Most of these features are centered around Square footing (sqft) and have outliers values.\n",
    "\n",
    "![price-sqft](img/price_sqft_above.png)"
   ]
  },
  {
   "cell_type": "markdown",
   "metadata": {
    "slideshow": {
     "slide_type": "subslide"
    }
   },
   "source": [
    "### Feature Engineering\n",
    "\n",
    "#### Year built\n",
    "\n",
    "![year-built](img/yr_built_range.png)"
   ]
  },
  {
   "cell_type": "markdown",
   "metadata": {
    "slideshow": {
     "slide_type": "subslide"
    }
   },
   "source": [
    "After making some research we found out that houses really starts loosing values after not being renovated for the last 10-15 years so we'll be taking a wider margin of the last 20 years and only make 2 classes over those 771 values.\n",
    "\n",
    "![year-built_class](img/yr_renovated_class.png)\n"
   ]
  },
  {
   "cell_type": "markdown",
   "metadata": {
    "slideshow": {
     "slide_type": "subslide"
    }
   },
   "source": [
    "#### Zip Code\n",
    "![zip_code_classes_distribution](img/zip_code_classes_distribution.png)\n",
    "![zipclode_classes](img/zipclode_classes.png)\n",
    "\n",
    "It seems to have had a positive effect on the potential usefulness of the zipcode feature.\n"
   ]
  },
  {
   "cell_type": "markdown",
   "metadata": {
    "slideshow": {
     "slide_type": "subslide"
    }
   },
   "source": [
    "#### sqft_living_range\n",
    "![sqft_living_range](img/sqft_living_range.png)\n"
   ]
  },
  {
   "cell_type": "markdown",
   "metadata": {
    "slideshow": {
     "slide_type": "subslide"
    }
   },
   "source": [
    "#### Price Outliers\n",
    "$(IQR = Q1 - Q2)$\n",
    "$(Q1-1.5*IQR - Q3+1.5*IQR)$\n",
    "![price_outliers](img/price_outliers.png)"
   ]
  },
  {
   "cell_type": "markdown",
   "metadata": {
    "slideshow": {
     "slide_type": "subslide"
    }
   },
   "source": [
    "<!-- ![Raccoon at night](img/d8d06642-861d-418a-92a2-4f2cec1be6bd.jpg) -->\n",
    "<img src=\"img/d8d06642-861d-418a-92a2-4f2cec1be6bd.jpg\" alt=\"Raccoon at night\" width=\"84%\">"
   ]
  },
  {
   "cell_type": "markdown",
   "metadata": {
    "slideshow": {
     "slide_type": "slide"
    }
   },
   "source": [
    "## Stay up to date with technology - Regression\n",
    "### Linear Regression\n",
    "**Linear regression is a type of supervised machine learning algorithm that computes the linear relationship between the dependent variable and one or more independent features by fitting a linear equation to observed data.**\n"
   ]
  },
  {
   "cell_type": "markdown",
   "metadata": {
    "slideshow": {
     "slide_type": "fragment"
    }
   },
   "source": [
    "### Decision Tree Regressor\n",
    "**The decision trees is used to fit a sine curve with addition noisy observation. As a result, it learns local linear regressions approximating the sine curve.**"
   ]
  },
  {
   "cell_type": "markdown",
   "metadata": {
    "slideshow": {
     "slide_type": "subslide"
    }
   },
   "source": [
    "### Ridge Regression (L2 regularization) \n",
    "\n",
    "**Ridge regression is a model-tuning method that is used to analyze any data that suffers from multicollinearity. This method performs L2 regularization. When the issue of multicollinearity occurs, least-squares are unbiased, and variances are large, this results in predicted values being far away from the actual values.**\n",
    "\n",
    "**The cost function for ridge regression:**\n",
    "$\\min_{\\theta} \\left( ||Y - X\\theta||^2 + \\lambda||\\theta|| \\right)$"
   ]
  },
  {
   "cell_type": "markdown",
   "metadata": {
    "slideshow": {
     "slide_type": "subslide"
    }
   },
   "source": [
    "### Evaluating the model's performance:\n",
    "\n",
    "RMSE Definition : \n",
    "\n",
    "\n",
    "\n",
    "\n",
    "$$\\text{RMSE} = \\sqrt{\\frac{1}{n}\\sum_{i=1}^{n}(y_i - \\hat{y}_i)^2}$$\n",
    "\n",
    "It measures the average deviation between predicted and observed values, emphasizing larger errors due to the squaring process.\n"
   ]
  },
  {
   "cell_type": "markdown",
   "metadata": {
    "slideshow": {
     "slide_type": "subslide"
    }
   },
   "source": [
    "<!-- ![Pidgeon Racoon](img/pixlr-image-generator-2ed459f8-0392-443e-8d7a-54e2d66eed28.png) -->\n",
    "<!-- ![Pidgeon Racoon](img/pixlr-image-generator-3b6ef2a8-d130-406a-b1fd-1bd9449a4f80.png) -->\n",
    "<img src=\"img/pixlr-image-generator-3b6ef2a8-d130-406a-b1fd-1bd9449a4f80.png\" alt=\"Pidgeon Racoon\" width=\"84%\">"
   ]
  },
  {
   "cell_type": "markdown",
   "metadata": {
    "slideshow": {
     "slide_type": "slide"
    }
   },
   "source": [
    "## Feature Selection\n",
    "\n",
    "***`Eye Test for feature selection`***\n",
    "\n",
    "**Probably won't be relevant**\n",
    "\n",
    "- Day \n",
    "- floors \n",
    "- sqft_lot \n",
    "- sqft_lot15 \n",
    "- condition \n",
    "- yr_built\n",
    "\n",
    "**Won't be given a chance**\n",
    "\n",
    "- Year\n",
    "- Month"
   ]
  },
  {
   "cell_type": "markdown",
   "metadata": {
    "slideshow": {
     "slide_type": "subslide"
    }
   },
   "source": [
    "#### **Explore options** `(VarianceThreshold, SelectKBest, Boruta, Forward feature selection, VIF)`\n",
    "\n",
    "**We are starting with the 11 remaining features**\n",
    "\n",
    "**Most promising:**\n",
    "\n",
    "- sqft_living \n",
    "- sqft_above \n",
    "- grade \n",
    "- yr_renovated_classes\n",
    "- zipcode_class\n",
    "\n",
    "**relevant:**\n",
    "- bathrooms \n",
    "- sqft_basement_class \n",
    "- sqft_living15 \n",
    " \n",
    "**Possibly relevant:**\n",
    "- bedrooms \n",
    "- waterfront \n",
    "- view \n"
   ]
  },
  {
   "cell_type": "markdown",
   "metadata": {
    "slideshow": {
     "slide_type": "subslide"
    }
   },
   "source": [
    "##### `VarianceThreshold`\n",
    "\n",
    "We choosed a pretty low threshold as we want to filter our remaining features with multiple tools.\n",
    "\n",
    "Was dropped \n",
    "- **yr_renovated_classes**\n",
    "- **waterfront**"
   ]
  },
  {
   "cell_type": "markdown",
   "metadata": {
    "slideshow": {
     "slide_type": "fragment"
    }
   },
   "source": [
    "##### `SelectKBest`\n",
    "\n",
    "Out of our 9 remaining features, we choose to keep the **k=6** best here, price included\n",
    "\n",
    "Was dropped \n",
    "- **sqft_basement_class**\n",
    "- **bedrooms**\n",
    "- **view**"
   ]
  },
  {
   "cell_type": "markdown",
   "metadata": {
    "slideshow": {
     "slide_type": "fragment"
    }
   },
   "source": [
    "##### `Boruta & Forward feature selection`\n",
    "All Good !"
   ]
  },
  {
   "cell_type": "markdown",
   "metadata": {
    "slideshow": {
     "slide_type": "subslide"
    }
   },
   "source": [
    "#### **Multicolinearity**\n",
    "##### `VIF`\n",
    "All values get a pass again.\n",
    "\n",
    "In another VIF test sqft_above and sqft_living had VIF Scores of **above 60**.\n",
    "\n",
    "##### Common sense and our earlier tests established **sqft_living** to be our most valuable feature.\n",
    "\n",
    "##### We end up dropping **`sqft_above`**"
   ]
  },
  {
   "cell_type": "markdown",
   "metadata": {
    "slideshow": {
     "slide_type": "subslide"
    }
   },
   "source": [
    "<img src=\"img/pixlr-image-generator-422de899-aeb4-4b1d-9e75-a5c478f90884.png\" alt=\"GTA Racoon\" width=\"100%\">"
   ]
  },
  {
   "cell_type": "markdown",
   "metadata": {
    "slideshow": {
     "slide_type": "slide"
    }
   },
   "source": [
    "## Machine Learning\n",
    "\n",
    "### With a Single feature"
   ]
  },
  {
   "cell_type": "markdown",
   "metadata": {
    "slideshow": {
     "slide_type": "fragment"
    }
   },
   "source": [
    "| **Model** | Baseline| Linear | Decision Tree R | Ridge |\n",
    "|-----------------|-----------------|-----------------|-----------------|-----------------|\n",
    "| **RMSE**  | 161756 | 102003 | 163420 | ```159645``` |\n",
    "| **R2** | X | ````0.37```` | 0.4067 | 0.3691  |"
   ]
  },
  {
   "cell_type": "markdown",
   "metadata": {
    "slideshow": {
     "slide_type": "subslide"
    }
   },
   "source": [
    "### With multiple features and Grid Search"
   ]
  },
  {
   "cell_type": "markdown",
   "metadata": {
    "slideshow": {
     "slide_type": "fragment"
    }
   },
   "source": [
    "| **Model** | Baseline| Linear | Decision Tree R | Ridge | ElasticNet | SVR | KNN Regressor | XGBoost |\n",
    "|-----------------|-----------------|-----------------|-----------------|-----------------|-----------------|-----------------|-----------------|-----------------|\n",
    "| **RMSE**  | 161756 | 160665.2 | 156118 | 105344 | 102667 | 107301 | ```96308``` | 96361 |\n",
    "| **R2** | X | 0.7512 | 0.3586 | 0.7320 | 0.7465 | 0.7108 | ```0.7636``` | 0.7571 |"
   ]
  },
  {
   "cell_type": "markdown",
   "metadata": {
    "slideshow": {
     "slide_type": "subslide"
    }
   },
   "source": [
    "<img src=\"img/Designer1.jpeg\" alt=\"Racoon Hunting Client\" width=\"84%\">"
   ]
  },
  {
   "cell_type": "markdown",
   "metadata": {
    "slideshow": {
     "slide_type": "slide"
    }
   },
   "source": [
    "##  Conclusion"
   ]
  },
  {
   "cell_type": "markdown",
   "metadata": {
    "slideshow": {
     "slide_type": "subslide"
    }
   },
   "source": [
    "\n",
    "- **`Knn Regressor`** and **`XGBoost`** ended up being our best models, but our results remain fairly poor with our predictions hovering around `$96,000`.\n",
    "- It most likely won't be as accurate as consulting a local real estate valuation expert.\n",
    "\n",
    "\n",
    "\n",
    "\n",
    " <span style=\"font-size: 150%;\"> **The current tool is best  when utilized for separating houses into differents price brackets, facilitating the evaluator's task.**</span>"
   ]
  },
  {
   "cell_type": "markdown",
   "metadata": {
    "slideshow": {
     "slide_type": "subslide"
    }
   },
   "source": [
    "### Possible reasons explaining those relatively poor performances :\n",
    "\n",
    "\n",
    "- The american housing market is highly competitive and functions on a `bidding system` which means many houses are sold above their market value.\n",
    "- May need additional Feature Engineering\n",
    "- Very unlikely considering the dataset's quality but there could be faulty values\n",
    "- Lack of meaningful variables\n"
   ]
  },
  {
   "cell_type": "markdown",
   "metadata": {
    "slideshow": {
     "slide_type": "fragment"
    }
   },
   "source": [
    "### Next steps for project improvement\n",
    "\n",
    "- Retrieval of additional variables (`price/m²`, parking_spots ...)\n",
    "- Testing `Polynomial Regression models`\n",
    "- Prepare different models for different price ranges, and eventually run prediction from multiple models and make an average prediction of their results"
   ]
  },
  {
   "cell_type": "markdown",
   "metadata": {
    "slideshow": {
     "slide_type": "subslide"
    }
   },
   "source": [
    "<img src=\"img/f27393d6-4d5f-4d72-bcfc-87ccfa0fc3a7.jpg\" alt=\"Raccoon Hunter with glasses\" width=\"84%\">"
   ]
  }
 ],
 "metadata": {
  "kernelspec": {
   "display_name": "apartment-hunter",
   "language": "python",
   "name": "python3"
  },
  "language_info": {
   "codemirror_mode": {
    "name": "ipython",
    "version": 3
   },
   "file_extension": ".py",
   "mimetype": "text/x-python",
   "name": "python",
   "nbconvert_exporter": "python",
   "pygments_lexer": "ipython3",
   "version": "3.8.12"
  }
 },
 "nbformat": 4,
 "nbformat_minor": 2
}
