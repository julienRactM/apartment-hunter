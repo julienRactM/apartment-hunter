{
 "cells": [
  {
   "cell_type": "markdown",
   "metadata": {},
   "source": [
    "# Apartment-Hunter La Plateforme Project"
   ]
  },
  {
   "cell_type": "markdown",
   "metadata": {},
   "source": [
    "![Racoon](img/f27393d6-4d5f-4d72-bcfc-87ccfa0fc3a7.jpg)\n",
    "<!-- ![Pandas](img/adc2543e-97cc-4b1c-b70c-1b8588d74ba4.jpg) -->"
   ]
  },
  {
   "cell_type": "markdown",
   "metadata": {},
   "source": [
    "## Roadmap"
   ]
  },
  {
   "cell_type": "markdown",
   "metadata": {
    "vscode": {
     "languageId": "plaintext"
    }
   },
   "source": [
    "![Planning](img/planning.png)"
   ]
  },
  {
   "cell_type": "markdown",
   "metadata": {},
   "source": [
    "## Data Exploration"
   ]
  },
  {
   "cell_type": "markdown",
   "metadata": {},
   "source": [
    "### Choosing a Dataset"
   ]
  },
  {
   "cell_type": "markdown",
   "metadata": {},
   "source": [
    "#### Madrid Pros : \n",
    "- A hefty number of features (58)\n",
    "- Some features are available only in this dataset (has_parking , rent_price = cheating)\n"
   ]
  },
  {
   "cell_type": "markdown",
   "metadata": {},
   "source": [
    "#### Madrid Cons : \n",
    "- Questionable dataset quality\n",
    "- ex: 24% of listed houses have pools while only 8% have gardens.\n",
    "- Only 26/58 features contain under 30% missing values.\n",
    "- Both features mentioned earlier, has_parking and rent_price are empty.\n",
    "- Some useful features in the other dataset aren't available in this one. \n"
   ]
  },
  {
   "cell_type": "markdown",
   "metadata": {},
   "source": [
    "#### kc Pros : \n",
    "- Overall the dataset is of better quality\n",
    "- No missing data, very few duplicates\n",
    "- About as many exploitable values as in the Madrid Dataset\n"
   ]
  },
  {
   "cell_type": "markdown",
   "metadata": {},
   "source": [
    "#### kc Cons : \n",
    "- Some useful features in the other dataset aren't available in this one. \n",
    "- Has probably already been cleaned by someone else, which mean possible human errors."
   ]
  },
  {
   "cell_type": "markdown",
   "metadata": {},
   "source": [
    "#### **The Decision**"
   ]
  },
  {
   "cell_type": "markdown",
   "metadata": {},
   "source": [
    "**For all the reasons listed earlier, we will be choosing the kc dataset, mainly because he has a very high Trust index compared to the Madrid one.**"
   ]
  },
  {
   "cell_type": "markdown",
   "metadata": {},
   "source": [
    "We also do realize sqft_above + sqft_basement = sqft_above so we probably won't be using all of them."
   ]
  },
  {
   "cell_type": "markdown",
   "metadata": {},
   "source": [
    "## Data Cleaning"
   ]
  },
  {
   "cell_type": "markdown",
   "metadata": {},
   "source": [
    "### Duplicates"
   ]
  },
  {
   "cell_type": "markdown",
   "metadata": {},
   "source": [
    "We do observe a small amount of duplicates in which only the price of the house change, we end up keeping the last sells."
   ]
  },
  {
   "cell_type": "markdown",
   "metadata": {},
   "source": [
    "### Categorical Features"
   ]
  },
  {
   "cell_type": "markdown",
   "metadata": {},
   "source": [
    "For most of those features, we ends up dropping classes at either ends of their spectrum."
   ]
  },
  {
   "cell_type": "markdown",
   "metadata": {},
   "source": [
    "In this case,\n",
    "\n",
    "We end up dropping Grade classes 3-4 of and 12-13 because of their low representation, and questionable distribution in the higher end ones.\n",
    "\n",
    "in the class \"13\" the range of price can go as far as 2 millions, which could disturb our predictions."
   ]
  },
  {
   "cell_type": "markdown",
   "metadata": {},
   "source": [
    "![Planning](img/price-grade.png)"
   ]
  },
  {
   "cell_type": "markdown",
   "metadata": {},
   "source": [
    "### Numerical Features"
   ]
  },
  {
   "cell_type": "markdown",
   "metadata": {},
   "source": [
    "Most of these features are centered around Square footing (sqft) and have outliers values."
   ]
  },
  {
   "cell_type": "markdown",
   "metadata": {},
   "source": [
    "\n",
    "![price-sqft](img/price_sqft_above.png)"
   ]
  },
  {
   "cell_type": "markdown",
   "metadata": {},
   "source": [
    "### Feature Engineering"
   ]
  },
  {
   "cell_type": "markdown",
   "metadata": {},
   "source": [
    "#### Year built"
   ]
  },
  {
   "cell_type": "markdown",
   "metadata": {},
   "source": [
    "![year-built](img/yr_built_range.png)"
   ]
  },
  {
   "cell_type": "markdown",
   "metadata": {},
   "source": [
    "After making some research we found out that houses really starts loosing values after not being renovated for the last 10-15 years so we'll be taking a wider margin of the last 20 years and only make 2 classes over those 771 values."
   ]
  },
  {
   "cell_type": "markdown",
   "metadata": {},
   "source": [
    "![year-built_class](img/yr_renovated_class.png)\n"
   ]
  },
  {
   "cell_type": "markdown",
   "metadata": {},
   "source": [
    "#### Zip Code"
   ]
  },
  {
   "cell_type": "markdown",
   "metadata": {},
   "source": [
    "![zip_code_classes_distribution](img/zip_code_classes_distribution.png)\n"
   ]
  },
  {
   "cell_type": "markdown",
   "metadata": {},
   "source": [
    "![zipclode_classes](img/zipclode_classes.png)\n"
   ]
  },
  {
   "cell_type": "markdown",
   "metadata": {},
   "source": [
    "It seems to have had a positive effect on the potential usefulness of the zipcode feature."
   ]
  },
  {
   "cell_type": "markdown",
   "metadata": {},
   "source": [
    "#### Price"
   ]
  },
  {
   "cell_type": "markdown",
   "metadata": {},
   "source": [
    "There is a fair amount of outliers, we are cutting them with the following formulae:\n",
    "\n",
    "$(IQR = Q1 - Q2)$\n",
    "\n",
    "$(Q1-1.5*IQR - Q3+1.5*IQR)$"
   ]
  },
  {
   "cell_type": "markdown",
   "metadata": {},
   "source": [
    "![price_outliers](img/price_outliers.png)\n"
   ]
  },
  {
   "cell_type": "markdown",
   "metadata": {},
   "source": [
    "## Stay up to date with technology - Regression"
   ]
  },
  {
   "cell_type": "markdown",
   "metadata": {},
   "source": [
    "### Linear Regression\n"
   ]
  },
  {
   "cell_type": "markdown",
   "metadata": {},
   "source": [
    "**Linear regression is a type of supervised machine learning algorithm that computes the linear relationship between the dependent variable and one or more independent features by fitting a linear equation to observed data.**"
   ]
  },
  {
   "cell_type": "markdown",
   "metadata": {},
   "source": [
    "### Decision Tree Regressor"
   ]
  },
  {
   "cell_type": "markdown",
   "metadata": {},
   "source": [
    "**The decision trees is used to fit a sine curve with addition noisy observation. As a result, it learns local linear regressions approximating the sine curve.**"
   ]
  },
  {
   "cell_type": "markdown",
   "metadata": {},
   "source": [
    "### Ridge Regression (L2 regularization) "
   ]
  },
  {
   "cell_type": "markdown",
   "metadata": {},
   "source": [
    "**Ridge regression is a model-tuning method that is used to analyze any data that suffers from multicollinearity. This method performs L2 regularization. When the issue of multicollinearity occurs, least-squares are unbiased, and variances are large, this results in predicted values being far away from the actual values.**\n",
    "\n",
    "**The cost function for ridge regression:**"
   ]
  },
  {
   "cell_type": "markdown",
   "metadata": {},
   "source": [
    "$\\min_{\\theta} \\left( ||Y - X\\theta||^2 + \\lambda||\\theta|| \\right)$"
   ]
  },
  {
   "cell_type": "markdown",
   "metadata": {},
   "source": [
    "\n",
    "![sqft_living_range](img/sqft_living_range.png)\n"
   ]
  },
  {
   "cell_type": "markdown",
   "metadata": {},
   "source": [
    "### Evaluating the model's performance:\n",
    "\n",
    "RMSE Definition : \n",
    "\n",
    "$$\n",
    "\\text{RMSE} = \\sqrt{\\frac{1}{n}\\sum_{i=1}^{n}(y_i - \\hat{y}_i)^2}\n",
    "$$\n",
    "\n",
    "It measures the average deviation between predicted and observed values, emphasizing larger errors due to the squaring process.\n"
   ]
  },
  {
   "cell_type": "markdown",
   "metadata": {},
   "source": [
    "## Feature Selection"
   ]
  },
  {
   "cell_type": "markdown",
   "metadata": {},
   "source": [
    "***Eye Test for feature selection***\n",
    "\n",
    "**Most promising:**\n",
    "\n",
    "- sqft_living \n",
    "- sqft_above \n",
    "- grade \n",
    "- yr_renovated_classes\n",
    "- zipcode_class\n",
    "\n",
    "**relevant:**\n",
    "- bathrooms \n",
    "- sqft_basement_class \n",
    "- sqft_living15 \n",
    " \n",
    "**Possibly relevant:**\n",
    "- bedrooms \n",
    "- waterfront \n",
    "- view \n",
    "\n",
    "**Probably won't be relevant**\n",
    "\n",
    "- Day \n",
    "- floors \n",
    "- sqft_lot \n",
    "- sqft_lot15 \n",
    "- condition \n",
    "- yr_built\n",
    "\n",
    "**Won't be given a chance**\n",
    "\n",
    "- Year\n",
    "- Month"
   ]
  },
  {
   "cell_type": "markdown",
   "metadata": {},
   "source": [
    "#### Explore options (VarianceThreshold, SelectKBest, Boruta, Forward feature selection, VIF)"
   ]
  },
  {
   "cell_type": "markdown",
   "metadata": {},
   "source": [
    "**We are starting with those eleven features**\n",
    "\n",
    "**Most promising:**\n",
    "\n",
    "- sqft_living \n",
    "- sqft_above \n",
    "- grade \n",
    "- yr_renovated_classes\n",
    "- zipcode_class\n",
    "\n",
    "**relevant:**\n",
    "- bathrooms \n",
    "- sqft_basement_class \n",
    "- sqft_living15 \n",
    " \n",
    "**Possibly relevant:**\n",
    "- bedrooms \n",
    "- waterfront \n",
    "- view \n"
   ]
  },
  {
   "cell_type": "markdown",
   "metadata": {},
   "source": [
    "We will execute multiple tests to identify a short list of the most significant features amongst those."
   ]
  },
  {
   "cell_type": "markdown",
   "metadata": {},
   "source": [
    "##### VarianceThreshold"
   ]
  },
  {
   "cell_type": "markdown",
   "metadata": {},
   "source": [
    "We choosed a pretty low threshold as we want to filter our remaining features with multiple tools.\n",
    "\n",
    "\n",
    "Was dropped \n",
    "- **yr_renovated_classes**\n",
    "- **waterfront**"
   ]
  },
  {
   "cell_type": "markdown",
   "metadata": {},
   "source": [
    "##### SelectKBest"
   ]
  },
  {
   "cell_type": "markdown",
   "metadata": {},
   "source": [
    "Out of our 9 remaining features, we choose to keep the **k=6** best here, price included\n",
    "\n",
    "\n",
    "Was dropped \n",
    "- **sqft_basement_class**\n",
    "- **bedrooms**\n",
    "- **view**"
   ]
  },
  {
   "cell_type": "markdown",
   "metadata": {},
   "source": [
    "##### Boruta & Forward feature selection"
   ]
  },
  {
   "cell_type": "markdown",
   "metadata": {},
   "source": [
    "They both gives a pass to all of our five remaining features."
   ]
  },
  {
   "cell_type": "markdown",
   "metadata": {},
   "source": [
    "#### Multicolinearity"
   ]
  },
  {
   "cell_type": "markdown",
   "metadata": {},
   "source": [
    "##### VIF"
   ]
  },
  {
   "cell_type": "markdown",
   "metadata": {},
   "source": [
    "All values get a pass again."
   ]
  },
  {
   "cell_type": "markdown",
   "metadata": {},
   "source": [
    "**But** we saw in another VIF test with more features that sqft_above and sqft_living had VIF Scores of above 60 earlier, which is something we want to prevent becoming an hidden issue."
   ]
  },
  {
   "cell_type": "markdown",
   "metadata": {},
   "source": [
    "##### Common sense and our earlier tests established **sqft_living** to be the most valuable single feature to use for running our first models.\n",
    "\n",
    "##### We end up dropping sqft_above"
   ]
  },
  {
   "cell_type": "markdown",
   "metadata": {},
   "source": [
    "## Machine Learning with a Single feature"
   ]
  },
  {
   "cell_type": "markdown",
   "metadata": {},
   "source": [
    "### Linear Regression "
   ]
  },
  {
   "cell_type": "markdown",
   "metadata": {},
   "source": [
    "#### Single feature"
   ]
  },
  {
   "cell_type": "markdown",
   "metadata": {},
   "source": [
    "| Model | Decision Tree Regressor | Ridge | ElasticNet | KNN Regressor | XGBoost |\n",
    "|-----------------|-----------------|-----------------|-----------------|-----------------|-----------------|\n",
    "| RMSE   | Row 1, Col 2    | Row 1, Col 3    | Column 3 Header | Column 3 Header | Column 3 Header |\n",
    "| R2 | Row 2, Col 2    | Row 2, Col 3    | Column 3 Header | Column 3 Header | Column 3 Header |"
   ]
  },
  {
   "cell_type": "code",
   "execution_count": 4,
   "metadata": {},
   "outputs": [],
   "source": [
    "# Average prediction error: ~102879.0000 (RMSE) (min-max:102879-102879), 21.710435980214278% of average price\n",
    "# Used features : 1 - ['sqft_living']"
   ]
  },
  {
   "cell_type": "markdown",
   "metadata": {},
   "source": [
    "**RMSE** : 102088\n",
    "\n",
    "Used features : 5 - ['sqft_living', 'sqft_living15', 'grade', 'bathrooms', 'zipcode_class']"
   ]
  },
  {
   "cell_type": "markdown",
   "metadata": {},
   "source": [
    "best parameters {'linear_reg__fit_intercept': False}"
   ]
  },
  {
   "cell_type": "markdown",
   "metadata": {},
   "source": [
    "cross_val_score : -102928.19682394649"
   ]
  },
  {
   "cell_type": "markdown",
   "metadata": {},
   "source": [
    "#### Multi features with Grid Search"
   ]
  },
  {
   "cell_type": "markdown",
   "metadata": {},
   "source": [
    "| Model | Decision Tree Regressor | Ridge | ElasticNet | KNN Regressor | XGBoost |\n",
    "|-----------------|-----------------|-----------------|-----------------|-----------------|-----------------|\n",
    "| RMSE   | Row 1, Col 2    | Row 1, Col 3    | Column 3 Header | Column 3 Header | Column 3 Header |\n",
    "| R2 | Row 2, Col 2    | Row 2, Col 3    | Column 3 Header | Column 3 Header | Column 3 Header |"
   ]
  },
  {
   "cell_type": "markdown",
   "metadata": {},
   "source": [
    "# Conclusion"
   ]
  },
  {
   "cell_type": "markdown",
   "metadata": {},
   "source": [
    "\n",
    "- **`Knn Regressor`** and **`XGBoost`** ended up being our best models, but our results remain fairly poor with our predictions hovering around `$96,000`.\n",
    "- It most likely won't be as accurate as consulting a local real estate valuation expert.\n",
    "\n",
    "\n",
    "#### **The current tool is best  when utilized for separating houses into differents price brackets, facilitating the evaluator's task.**"
   ]
  },
  {
   "cell_type": "markdown",
   "metadata": {},
   "source": [
    "#### Possible reasons explaining those relatively poor performances :\n",
    "\n",
    "\n",
    "- The american housing market is highly competitive and functions on a `bidding system` which means many houses are sold above their market value.\n",
    "- May need additional Feature Engineering\n",
    "- Very unlikely considering the dataset's quality but there could be faulty values\n",
    "- Lack of meaningful variables\n"
   ]
  },
  {
   "cell_type": "markdown",
   "metadata": {},
   "source": [
    "#### Next steps for project improvement\n",
    "\n",
    "- Retrieval of additional variables (`price/m²`, parking_spots ...)\n",
    "- Testing `Polynomial Regression models`\n",
    "- Prepare different models for different price ranges, and eventually run prediction from multiple models and make an average prediction of their results"
   ]
  },
  {
   "cell_type": "markdown",
   "metadata": {},
   "source": [
    "![Raccon](img/f27393d6-4d5f-4d72-bcfc-87ccfa0fc3a7.jpg)"
   ]
  }
 ],
 "metadata": {
  "kernelspec": {
   "display_name": "apartment-hunter",
   "language": "python",
   "name": "python3"
  },
  "language_info": {
   "codemirror_mode": {
    "name": "ipython",
    "version": 3
   },
   "file_extension": ".py",
   "mimetype": "text/x-python",
   "name": "python",
   "nbconvert_exporter": "python",
   "pygments_lexer": "ipython3",
   "version": "3.8.12"
  }
 },
 "nbformat": 4,
 "nbformat_minor": 2
}
