{
 "cells": [
  {
   "cell_type": "markdown",
   "metadata": {},
   "source": [
    "# Projet appartment-hunter - La plateforme"
   ]
  },
  {
   "cell_type": "markdown",
   "metadata": {},
   "source": [
    "## Imports"
   ]
  },
  {
   "cell_type": "code",
   "execution_count": 288,
   "metadata": {},
   "outputs": [
    {
     "name": "stdout",
     "output_type": "stream",
     "text": [
      "The autoreload extension is already loaded. To reload it, use:\n",
      "  %reload_ext autoreload\n"
     ]
    }
   ],
   "source": [
    "%load_ext autoreload"
   ]
  },
  {
   "cell_type": "code",
   "execution_count": 289,
   "metadata": {},
   "outputs": [],
   "source": [
    "%autoreload 2"
   ]
  },
  {
   "cell_type": "code",
   "execution_count": 340,
   "metadata": {},
   "outputs": [],
   "source": [
    "import pandas as pd\n",
    "import numpy as np\n",
    "\n",
    "import matplotlib.pyplot as plt\n",
    "import seaborn as sns\n",
    "\n",
    "import statsmodels.api as sm\n",
    "\n",
    "from mlxtend.feature_selection import SequentialFeatureSelector as sfs\n",
    "from boruta import BorutaPy\n",
    "\n",
    "from sklearn.preprocessing import OneHotEncoder, OrdinalEncoder, StandardScaler, RobustScaler\n",
    "\n",
    "from sklearn.pipeline import Pipeline\n",
    "\n",
    "from sklearn.compose import ColumnTransformer\n",
    "\n",
    "from sklearn.model_selection import train_test_split, GridSearchCV, cross_validate, learning_curve, validation_curve, cross_val_score\n",
    "from sklearn.metrics import mean_absolute_error, mean_squared_error, make_scorer, recall_score, precision_score, confusion_matrix, ConfusionMatrixDisplay\n",
    "from statsmodels.stats.outliers_influence import variance_inflation_factor\n",
    "\n",
    "from sklearn.linear_model import LinearRegression\n",
    "from sklearn.tree import DecisionTreeRegressor\n",
    "from sklearn.ensemble import RandomForestRegressor\n",
    "from sklearn.linear_model import Ridge\n",
    "\n",
    "\n",
    "import joblib\n",
    "\n",
    "import lime\n",
    "import lime.lime_tabular\n",
    "\n",
    "from functions import load_best_model, save_model_if_best, variance_threshold_selector, KBest_selector\n",
    "    \n",
    "\n",
    "\n",
    "# import os\n",
    "\n",
    "# import pandas as pd\n",
    "# import numpy as np\n",
    "\n",
    "# import matplotlib.pyplot as plt\n",
    "# import seaborn as sns\n",
    "# import lime\n",
    "# import lime.lime_tabular\n",
    "\n",
    "# import missingno as msno\n",
    "# from scipy.stats import f_oneway, chi2_contingency\n",
    "\n",
    "# from sklearn.model_selection import train_test_split, cross_validate, learning_curve, validation_curve, cross_val_score\n",
    "# from sklearn.compose import ColumnTransformer\n",
    "\n",
    "\n",
    "\n",
    "# from sklearn.ensemble import RandomForestClassifier, RandomForestRegressor\n",
    "# from sklearn.tree import DecisionTreeClassifier\n",
    "\n",
    "# from sklearn import metrics\n",
    "\n",
    "\n",
    "# import pickle\n",
    "\n",
    "# import warnings\n",
    "\n",
    "\n",
    "\n",
    "# warnings.simplefilter(action='ignore', category=FutureWarning)\n",
    "\n",
    "# pd.options.mode.chained_assignment = None\n",
    "# warnings.filterwarnings(\"ignore\", category=RuntimeWarning)\n",
    "# warnings.filterwarnings(\"ignore\", category=UserWarning)"
   ]
  },
  {
   "cell_type": "markdown",
   "metadata": {},
   "source": [
    "### Palette"
   ]
  },
  {
   "cell_type": "code",
   "execution_count": 341,
   "metadata": {},
   "outputs": [],
   "source": [
    "\n",
    "orange = \"#FFA500\"\n",
    "purple = \"#800080\"\n",
    "grey = \"#808080\"\n",
    "\n",
    "custom_palette = [\"#FFA500\", \"#FF8C00\", \"#FF5500\", \"#FF2200\", \"#800040\", \"#400080\", \"#800080\", \"#808080\", \"#808080\"]\n",
    "\n",
    "custom_palette_f5 = [\n",
    "    purple   ,  # purple\n",
    "    '#3B528B',  # Blue\n",
    "    orange   ,  #orange\n",
    "    '#21918C',  # Green\n",
    "    # '#5DC863',  # Yellow-Green\n",
    "    grey     ,  #grey\n",
    "    # '#FDE725'   # Yellow\n",
    "]\n",
    "\n",
    "viridis_colors = [\n",
    "    purple   ,  # Purple\n",
    "    '#3B528B',  # Blue\n",
    "    '#21918C',  # Green\n",
    "    '#5DC863',  # Yellow-Green\n",
    "    '#FDE725'   # Yellow\n",
    "]\n",
    "\n",
    "sns.set_palette(custom_palette)"
   ]
  },
  {
   "cell_type": "code",
   "execution_count": 292,
   "metadata": {},
   "outputs": [],
   "source": [
    "pd.set_option('display.max_columns', None)"
   ]
  },
  {
   "cell_type": "code",
   "execution_count": 293,
   "metadata": {},
   "outputs": [],
   "source": [
    "df = pd.read_csv('data/cleaned_df.csv')"
   ]
  },
  {
   "cell_type": "markdown",
   "metadata": {},
   "source": [
    "## Power BI Dashboard Nudes"
   ]
  },
  {
   "cell_type": "markdown",
   "metadata": {},
   "source": [
    "Screen*$*"
   ]
  },
  {
   "cell_type": "markdown",
   "metadata": {},
   "source": [
    "## Stay up to date with technology - Regression"
   ]
  },
  {
   "cell_type": "markdown",
   "metadata": {},
   "source": [
    "Regression is a supervised learning technique for determining the relationship between a dependent variable, y, and one or more independent variables, x. Two common regression algorithms are simple and multiple linear regression."
   ]
  },
  {
   "cell_type": "markdown",
   "metadata": {},
   "source": [
    "### Linear Regression"
   ]
  },
  {
   "cell_type": "markdown",
   "metadata": {},
   "source": [
    "**Linear regression is a type of supervised machine learning algorithm that computes the linear relationship between the dependent variable and one or more independent features by fitting a linear equation to observed data.**"
   ]
  },
  {
   "cell_type": "markdown",
   "metadata": {},
   "source": [
    "Note : We're going for the most basic model since it is often surprisingly efficient and also will serve as a baseline to discover if it was worth using more complex models to make a prediction instead of going for a simpler answer.\n",
    "It being linear will obviously deserves us on high end houses where values can have steeper rises, but those products are by definition rares and may not affect our ability to predict the other houses."
   ]
  },
  {
   "cell_type": "markdown",
   "metadata": {},
   "source": [
    "### Decision Tree Regresson"
   ]
  },
  {
   "cell_type": "markdown",
   "metadata": {},
   "source": [
    "**The decision trees is used to fit a sine curve with addition noisy observation. As a result, it learns local linear regressions approximating the sine curve.**"
   ]
  },
  {
   "cell_type": "markdown",
   "metadata": {},
   "source": [
    "Note : Althought it is prone to overfitting, I think it really delivers a \"decision processus\" pretty close to what an expert determining the price of a lot would execute to motivate his decision based on pros and cons relative to informations. So we think it is worth trying."
   ]
  },
  {
   "cell_type": "markdown",
   "metadata": {},
   "source": [
    "### Ridge Regression (L2 regularization) "
   ]
  },
  {
   "cell_type": "markdown",
   "metadata": {},
   "source": [
    "**Ridge regression is a model-tuning method that is used to analyze any data that suffers from multicollinearity. This method performs L2 regularization. When the issue of multicollinearity occurs, least-squares are unbiased, and variances are large, this results in predicted values being far away from the actual values.**\n",
    "\n",
    "**The cost function for ridge regression:**"
   ]
  },
  {
   "cell_type": "markdown",
   "metadata": {},
   "source": [
    "$\\min_{\\theta} \\left( ||Y - X\\theta||^2 + \\lambda||\\theta|| \\right)$"
   ]
  },
  {
   "cell_type": "markdown",
   "metadata": {},
   "source": [
    "Note : A safe bet for us is going with a ridge regression that tends to negate some effects of multicolinearity as long as we don't mess up the feature selection, it should cover our projected weakness of picking too many features to work with since many of them have had promising results in colinearity tests with prices."
   ]
  },
  {
   "cell_type": "markdown",
   "metadata": {},
   "source": [
    "## Feature Analysis and Selection"
   ]
  },
  {
   "cell_type": "markdown",
   "metadata": {},
   "source": [
    "### Feature Selection"
   ]
  },
  {
   "cell_type": "markdown",
   "metadata": {},
   "source": [
    "transformed columns : Year Month Day sqft_basement_class yr_renovated_classes zipcode_class\n",
    "note : may use sqft_above as sqft_above_bin\n",
    "\n",
    "***Eye Test for feature selection***\n",
    "\n",
    "**Most promising:**\n",
    "\n",
    "- sqft_living \n",
    "- sqft_above \n",
    "- grade \n",
    "- yr_renovated_classes\n",
    "- zipcode_class\n",
    "\n",
    "**relevant:**\n",
    "- bathrooms \n",
    "- sqft_basement_class \n",
    "- sqft_living15 \n",
    " \n",
    "**Possibly relevant:**\n",
    "- bedrooms \n",
    "- waterfront \n",
    "- view \n",
    "\n",
    "**Probably won't be relevant**\n",
    "\n",
    "- Day \n",
    "- floors \n",
    "- sqft_lot \n",
    "- sqft_lot15 \n",
    "- condition \n",
    "- yr_built\n",
    "\n",
    "**Won't be given a chance**\n",
    "\n",
    "- Year\n",
    "- Month"
   ]
  },
  {
   "cell_type": "markdown",
   "metadata": {},
   "source": [
    "#### Explore options (Boruta, forward feature selection, ...)"
   ]
  },
  {
   "cell_type": "markdown",
   "metadata": {},
   "source": [
    "##### Boruta"
   ]
  },
  {
   "cell_type": "code",
   "execution_count": 294,
   "metadata": {},
   "outputs": [],
   "source": [
    "clean_df = df.copy()"
   ]
  },
  {
   "cell_type": "code",
   "execution_count": 295,
   "metadata": {},
   "outputs": [],
   "source": [
    "# to_one_hot_encode = ['zipcode_class']\n",
    "to_ordinal_encode = ['grade', 'yr_renovated_classes', 'bathrooms', 'sqft_basement_class',\\\n",
    "    'bedrooms', 'waterfront', 'view', 'zipcode_class']\n",
    "to_scale = ['sqft_living', 'sqft_above', 'sqft_living15']\n",
    "target = 'price'\n",
    "select_features = to_ordinal_encode + to_scale + [target]"
   ]
  },
  {
   "cell_type": "code",
   "execution_count": 296,
   "metadata": {},
   "outputs": [
    {
     "name": "stdout",
     "output_type": "stream",
     "text": [
      "<class 'pandas.core.frame.DataFrame'>\n",
      "RangeIndex: 19919 entries, 0 to 19918\n",
      "Data columns (total 12 columns):\n",
      " #   Column                Non-Null Count  Dtype  \n",
      "---  ------                --------------  -----  \n",
      " 0   grade                 19919 non-null  int64  \n",
      " 1   yr_renovated_classes  19919 non-null  int64  \n",
      " 2   bathrooms             19919 non-null  float64\n",
      " 3   sqft_basement_class   19919 non-null  int64  \n",
      " 4   bedrooms              19919 non-null  int64  \n",
      " 5   waterfront            19919 non-null  int64  \n",
      " 6   view                  19919 non-null  int64  \n",
      " 7   zipcode_class         19919 non-null  int64  \n",
      " 8   sqft_living           19919 non-null  int64  \n",
      " 9   sqft_above            19919 non-null  int64  \n",
      " 10  sqft_living15         19919 non-null  int64  \n",
      " 11  price                 19919 non-null  float64\n",
      "dtypes: float64(2), int64(10)\n",
      "memory usage: 1.8 MB\n"
     ]
    }
   ],
   "source": [
    "clean_df = clean_df[select_features]\n",
    "clean_df.info()"
   ]
  },
  {
   "cell_type": "markdown",
   "metadata": {},
   "source": [
    "#### VarianceThreshold"
   ]
  },
  {
   "cell_type": "code",
   "execution_count": 297,
   "metadata": {},
   "outputs": [
    {
     "data": {
      "text/plain": [
       "grade                   1.018403e+00\n",
       "yr_renovated_classes    9.774389e-02\n",
       "bathrooms               4.778842e-01\n",
       "sqft_basement_class     7.968242e-01\n",
       "bedrooms                7.249149e-01\n",
       "waterfront              2.953371e-03\n",
       "view                    3.931763e-01\n",
       "zipcode_class           1.786491e+00\n",
       "sqft_living             5.472983e+05\n",
       "sqft_above              4.981291e+05\n",
       "sqft_living15           3.648871e+05\n",
       "price                   4.108790e+10\n",
       "dtype: float64"
      ]
     },
     "execution_count": 297,
     "metadata": {},
     "output_type": "execute_result"
    }
   ],
   "source": [
    "clean_df.var(axis=0)"
   ]
  },
  {
   "cell_type": "markdown",
   "metadata": {},
   "source": [
    "For now we'll filter all features with a variance lower to 0.2"
   ]
  },
  {
   "cell_type": "code",
   "execution_count": 298,
   "metadata": {},
   "outputs": [
    {
     "name": "stdout",
     "output_type": "stream",
     "text": [
      "columns dropped : ['yr_renovated_classes', 'waterfront']\n"
     ]
    }
   ],
   "source": [
    "clean_df = variance_threshold_selector(clean_df,threshold=0.2)"
   ]
  },
  {
   "cell_type": "code",
   "execution_count": 299,
   "metadata": {},
   "outputs": [
    {
     "data": {
      "text/plain": [
       "grade                  1.018403e+00\n",
       "bathrooms              4.778842e-01\n",
       "sqft_basement_class    7.968242e-01\n",
       "bedrooms               7.249149e-01\n",
       "view                   3.931763e-01\n",
       "zipcode_class          1.786491e+00\n",
       "sqft_living            5.472983e+05\n",
       "sqft_above             4.981291e+05\n",
       "sqft_living15          3.648871e+05\n",
       "price                  4.108790e+10\n",
       "dtype: float64"
      ]
     },
     "execution_count": 299,
     "metadata": {},
     "output_type": "execute_result"
    }
   ],
   "source": [
    "clean_df.var(axis=0)"
   ]
  },
  {
   "cell_type": "markdown",
   "metadata": {},
   "source": [
    "#### SelectKBest\n"
   ]
  },
  {
   "cell_type": "code",
   "execution_count": 300,
   "metadata": {},
   "outputs": [
    {
     "data": {
      "text/plain": [
       "(array([4.8027265 , 2.53206833, 1.3153853 , 1.58590119, 1.25597189,\n",
       "        7.22442937, 4.58040118, 3.40172286, 3.86978975]),\n",
       " array([0.00000000e+00, 0.00000000e+00, 6.54356389e-27, 3.74430647e-75,\n",
       "        5.02661782e-19, 0.00000000e+00, 0.00000000e+00, 0.00000000e+00,\n",
       "        0.00000000e+00]))"
      ]
     },
     "execution_count": 300,
     "metadata": {},
     "output_type": "execute_result"
    }
   ],
   "source": [
    "from sklearn.feature_selection import f_classif\n",
    "f_classif(clean_df.drop(columns='price'), clean_df.price)"
   ]
  },
  {
   "cell_type": "markdown",
   "metadata": {},
   "source": [
    "Did not manage to prevent the error below, I do df.loc[:, 'price'] = data['price]"
   ]
  },
  {
   "cell_type": "code",
   "execution_count": 301,
   "metadata": {},
   "outputs": [
    {
     "name": "stdout",
     "output_type": "stream",
     "text": [
      "columns dropped : ['sqft_basement_class', 'bedrooms', 'view']\n"
     ]
    }
   ],
   "source": [
    "# at this point of time we have 9 remaining features, we're choosing to cut 2 more\n",
    "clean_df = KBest_selector(clean_df, target_name = 'price', k=6)"
   ]
  },
  {
   "cell_type": "code",
   "execution_count": 313,
   "metadata": {},
   "outputs": [
    {
     "data": {
      "text/plain": [
       "Index(['grade', 'bathrooms', 'zipcode_class', 'sqft_living', 'sqft_above',\n",
       "       'sqft_living15', 'price'],\n",
       "      dtype='object')"
      ]
     },
     "execution_count": 313,
     "metadata": {},
     "output_type": "execute_result"
    }
   ],
   "source": [
    "clean_df.columns"
   ]
  },
  {
   "cell_type": "markdown",
   "metadata": {},
   "source": [
    "Boruta"
   ]
  },
  {
   "cell_type": "code",
   "execution_count": 317,
   "metadata": {},
   "outputs": [
    {
     "name": "stdout",
     "output_type": "stream",
     "text": [
      "Iteration: \t1 / 100\n",
      "Confirmed: \t0\n",
      "Tentative: \t6\n",
      "Rejected: \t0\n",
      "Iteration: \t2 / 100\n",
      "Confirmed: \t0\n",
      "Tentative: \t6\n",
      "Rejected: \t0\n",
      "Iteration: \t3 / 100\n",
      "Confirmed: \t0\n",
      "Tentative: \t6\n",
      "Rejected: \t0\n",
      "Iteration: \t4 / 100\n",
      "Confirmed: \t0\n",
      "Tentative: \t6\n",
      "Rejected: \t0\n",
      "Iteration: \t5 / 100\n",
      "Confirmed: \t0\n",
      "Tentative: \t6\n",
      "Rejected: \t0\n",
      "Iteration: \t6 / 100\n",
      "Confirmed: \t0\n",
      "Tentative: \t6\n",
      "Rejected: \t0\n",
      "Iteration: \t7 / 100\n",
      "Confirmed: \t0\n",
      "Tentative: \t6\n",
      "Rejected: \t0\n",
      "Iteration: \t8 / 100\n",
      "Confirmed: \t6\n",
      "Tentative: \t0\n",
      "Rejected: \t0\n",
      "\n",
      "\n",
      "BorutaPy finished running.\n",
      "\n",
      "Iteration: \t9 / 100\n",
      "Confirmed: \t6\n",
      "Tentative: \t0\n",
      "Rejected: \t0\n"
     ]
    },
    {
     "data": {
      "text/plain": [
       "array([ True,  True,  True,  True,  True,  True])"
      ]
     },
     "execution_count": 317,
     "metadata": {},
     "output_type": "execute_result"
    }
   ],
   "source": [
    "# Boruta is not up to date with the latests versions of numpy so we need to do this to fix the int error\n",
    "np.int = np.int32\n",
    "np.float = np.float64\n",
    "np.bool = np.bool_\n",
    "\n",
    "rf = RandomForestRegressor(n_estimators=200, n_jobs=-1, max_depth=5)\n",
    "\n",
    "feat_selector = BorutaPy(rf, n_estimators='auto', verbose=2, random_state=42)\n",
    "\n",
    "# find all relevant features\n",
    "feat_selector.fit(clean_df.drop(columns=['price']).values, clean_df.price.values)\n",
    "\n",
    "# check selected features\n",
    "feat_selector.support_\n",
    "\n",
    "# check ranking of features\n",
    "# feat_selector.ranking_\n",
    "\n"
   ]
  },
  {
   "cell_type": "markdown",
   "metadata": {},
   "source": [
    "Boruta gives a pass to all our features."
   ]
  },
  {
   "cell_type": "markdown",
   "metadata": {},
   "source": [
    "##### Making a preprocessing pipeline"
   ]
  },
  {
   "cell_type": "code",
   "execution_count": 318,
   "metadata": {},
   "outputs": [],
   "source": [
    "# to_one_hot_encode = ['zipcode_class']\n",
    "to_ordinal_encode = ['grade', 'zipcode_class']\n",
    "to_scale = ['sqft_living', 'sqft_above', 'sqft_living15']\n",
    "select_features = to_ordinal_encode + to_scale # already_processed to_label_encode to_one_hot_encode\n",
    "\n",
    "X = clean_df[select_features]\n",
    "y = clean_df['price']  # Target\n",
    "\n",
    "model_name = 'linear'\n",
    "\n",
    "X_train, X_test, y_train, y_test = train_test_split(X, y, test_size=0.3, \\\n",
    "    random_state=42) # np.random.randint(1, 20001) 42\n",
    "\n",
    "# Building Preprocessing Pipeline\n",
    "preprocessor = ColumnTransformer([\n",
    "    # ('imputer', SimpleImputer(strategy='most_frequent')),\n",
    "    # ('onehot', OneHotEncoder(), to_one_hot_encode),\n",
    "    ('ordinal', OrdinalEncoder(), to_ordinal_encode),\n",
    "    ('robust_scaler', RobustScaler(), to_scale), # RobustScaler/StandardScaler/MinMaxScaler\n",
    "], remainder='passthrough')  # passthrough/drop\n",
    "\n",
    "X_train_selected = pd.DataFrame(preprocessor.fit_transform(X_train),\n",
    "        columns=preprocessor.get_feature_names_out())\n",
    "X_test_selected = pd.DataFrame(preprocessor.fit_transform(X_test),\n",
    "        columns=preprocessor.get_feature_names_out())"
   ]
  },
  {
   "cell_type": "markdown",
   "metadata": {},
   "source": [
    "##### Forward Feature Selection"
   ]
  },
  {
   "cell_type": "markdown",
   "metadata": {},
   "source": [
    "Only found a version with warning for now, better keep it than not use it at the moment."
   ]
  },
  {
   "cell_type": "code",
   "execution_count": 320,
   "metadata": {},
   "outputs": [
    {
     "name": "stderr",
     "output_type": "stream",
     "text": [
      "/Users/julien.ract.mugnerot/.pyenv/versions/3.12.0/envs/apartment-hunter/lib/python3.12/site-packages/sklearn/model_selection/_validation.py:73: FutureWarning: `fit_params` is deprecated and will be removed in version 1.6. Pass parameters via `params` instead.\n",
      "  warnings.warn(\n",
      "/Users/julien.ract.mugnerot/.pyenv/versions/3.12.0/envs/apartment-hunter/lib/python3.12/site-packages/sklearn/model_selection/_validation.py:73: FutureWarning: `fit_params` is deprecated and will be removed in version 1.6. Pass parameters via `params` instead.\n",
      "  warnings.warn(\n",
      "/Users/julien.ract.mugnerot/.pyenv/versions/3.12.0/envs/apartment-hunter/lib/python3.12/site-packages/sklearn/model_selection/_validation.py:73: FutureWarning: `fit_params` is deprecated and will be removed in version 1.6. Pass parameters via `params` instead.\n",
      "  warnings.warn(\n",
      "/Users/julien.ract.mugnerot/.pyenv/versions/3.12.0/envs/apartment-hunter/lib/python3.12/site-packages/sklearn/model_selection/_validation.py:73: FutureWarning: `fit_params` is deprecated and will be removed in version 1.6. Pass parameters via `params` instead.\n",
      "  warnings.warn(\n",
      "/Users/julien.ract.mugnerot/.pyenv/versions/3.12.0/envs/apartment-hunter/lib/python3.12/site-packages/sklearn/model_selection/_validation.py:73: FutureWarning: `fit_params` is deprecated and will be removed in version 1.6. Pass parameters via `params` instead.\n",
      "  warnings.warn(\n",
      "\n",
      "[2024-04-10 15:49:14] Features: 1/5 -- score: -22171251093.824375/Users/julien.ract.mugnerot/.pyenv/versions/3.12.0/envs/apartment-hunter/lib/python3.12/site-packages/sklearn/model_selection/_validation.py:73: FutureWarning: `fit_params` is deprecated and will be removed in version 1.6. Pass parameters via `params` instead.\n",
      "  warnings.warn(\n",
      "/Users/julien.ract.mugnerot/.pyenv/versions/3.12.0/envs/apartment-hunter/lib/python3.12/site-packages/sklearn/model_selection/_validation.py:73: FutureWarning: `fit_params` is deprecated and will be removed in version 1.6. Pass parameters via `params` instead.\n",
      "  warnings.warn(\n",
      "/Users/julien.ract.mugnerot/.pyenv/versions/3.12.0/envs/apartment-hunter/lib/python3.12/site-packages/sklearn/model_selection/_validation.py:73: FutureWarning: `fit_params` is deprecated and will be removed in version 1.6. Pass parameters via `params` instead.\n",
      "  warnings.warn(\n",
      "/Users/julien.ract.mugnerot/.pyenv/versions/3.12.0/envs/apartment-hunter/lib/python3.12/site-packages/sklearn/model_selection/_validation.py:73: FutureWarning: `fit_params` is deprecated and will be removed in version 1.6. Pass parameters via `params` instead.\n",
      "  warnings.warn(\n",
      "\n",
      "[2024-04-10 15:49:14] Features: 2/5 -- score: -11358702992.547901/Users/julien.ract.mugnerot/.pyenv/versions/3.12.0/envs/apartment-hunter/lib/python3.12/site-packages/sklearn/model_selection/_validation.py:73: FutureWarning: `fit_params` is deprecated and will be removed in version 1.6. Pass parameters via `params` instead.\n",
      "  warnings.warn(\n"
     ]
    },
    {
     "name": "stderr",
     "output_type": "stream",
     "text": [
      "/Users/julien.ract.mugnerot/.pyenv/versions/3.12.0/envs/apartment-hunter/lib/python3.12/site-packages/sklearn/model_selection/_validation.py:73: FutureWarning: `fit_params` is deprecated and will be removed in version 1.6. Pass parameters via `params` instead.\n",
      "  warnings.warn(\n",
      "/Users/julien.ract.mugnerot/.pyenv/versions/3.12.0/envs/apartment-hunter/lib/python3.12/site-packages/sklearn/model_selection/_validation.py:73: FutureWarning: `fit_params` is deprecated and will be removed in version 1.6. Pass parameters via `params` instead.\n",
      "  warnings.warn(\n",
      "\n",
      "[2024-04-10 15:49:18] Features: 3/5 -- score: -10645256226.40477/Users/julien.ract.mugnerot/.pyenv/versions/3.12.0/envs/apartment-hunter/lib/python3.12/site-packages/sklearn/model_selection/_validation.py:73: FutureWarning: `fit_params` is deprecated and will be removed in version 1.6. Pass parameters via `params` instead.\n",
      "  warnings.warn(\n",
      "/Users/julien.ract.mugnerot/.pyenv/versions/3.12.0/envs/apartment-hunter/lib/python3.12/site-packages/sklearn/model_selection/_validation.py:73: FutureWarning: `fit_params` is deprecated and will be removed in version 1.6. Pass parameters via `params` instead.\n",
      "  warnings.warn(\n",
      "\n",
      "[2024-04-10 15:49:21] Features: 4/5 -- score: -10621618292.06265/Users/julien.ract.mugnerot/.pyenv/versions/3.12.0/envs/apartment-hunter/lib/python3.12/site-packages/sklearn/model_selection/_validation.py:73: FutureWarning: `fit_params` is deprecated and will be removed in version 1.6. Pass parameters via `params` instead.\n",
      "  warnings.warn(\n"
     ]
    },
    {
     "name": "stdout",
     "output_type": "stream",
     "text": [
      "kept features ['grade', 'zipcode_class', 'sqft_living', 'sqft_above', 'sqft_living15']\n"
     ]
    },
    {
     "name": "stderr",
     "output_type": "stream",
     "text": [
      "\n",
      "[2024-04-10 15:49:22] Features: 5/5 -- score: -10603382153.478245"
     ]
    }
   ],
   "source": [
    "lreg = LinearRegression()\n",
    "sfs1 = sfs(lreg, k_features=5, forward=True, verbose=2, scoring='neg_mean_squared_error')\n",
    "sfs1 = sfs1.fit(X, y)\n",
    "feat_names = list(sfs1.k_feature_names_)\n",
    "print('kept features', feat_names)"
   ]
  },
  {
   "cell_type": "markdown",
   "metadata": {},
   "source": [
    "#### VIF"
   ]
  },
  {
   "cell_type": "code",
   "execution_count": 321,
   "metadata": {},
   "outputs": [
    {
     "name": "stdout",
     "output_type": "stream",
     "text": [
      "VIF (facteur d'inflation de la variance)\n",
      "                        feature       VIF\n",
      "0                ordinal__grade  4.092220\n",
      "1        ordinal__zipcode_class  3.359373\n",
      "2    robust_scaler__sqft_living  4.148563\n",
      "3     robust_scaler__sqft_above  4.373177\n",
      "4  robust_scaler__sqft_living15  2.524854\n"
     ]
    }
   ],
   "source": [
    "vif_data = pd.DataFrame()\n",
    "vif_data[\"feature\"] = list(X_train_selected)\n",
    "vif_data[\"VIF\"] = [variance_inflation_factor(X_train_selected, i)\n",
    "                          for i in range(len(X_train_selected.columns))]\n",
    "\n",
    "print('VIF (facteur d\\'inflation de la variance)')\n",
    "print(vif_data)"
   ]
  },
  {
   "cell_type": "markdown",
   "metadata": {},
   "source": [
    "All values are under 10 which indicates a low level of multicolinearity which we may not have to fix."
   ]
  },
  {
   "cell_type": "markdown",
   "metadata": {},
   "source": [
    "But we saw in another VIF test with more features that sqft_above and sqft_living had VIF Scores of above 60 earlier, which is something we want to prevent becoming an hidden issue."
   ]
  },
  {
   "cell_type": "code",
   "execution_count": 322,
   "metadata": {},
   "outputs": [
    {
     "data": {
      "text/plain": [
       "1957.0613986645917"
      ]
     },
     "execution_count": 322,
     "metadata": {},
     "output_type": "execute_result"
    }
   ],
   "source": [
    "clean_df.sqft_living.mean() "
   ]
  },
  {
   "cell_type": "code",
   "execution_count": 323,
   "metadata": {},
   "outputs": [
    {
     "data": {
      "text/plain": [
       "1695.183442943923"
      ]
     },
     "execution_count": 323,
     "metadata": {},
     "output_type": "execute_result"
    }
   ],
   "source": [
    "clean_df.sqft_above.mean()"
   ]
  },
  {
   "cell_type": "code",
   "execution_count": 324,
   "metadata": {},
   "outputs": [
    {
     "data": {
      "image/png": "[encoded data removed]",
      "text/plain": [
       "<Figure size 1500x700 with 1 Axes>"
      ]
     },
     "metadata": {},
     "output_type": "display_data"
    }
   ],
   "source": [
    "plt.figure(figsize=(15, 7))\n",
    "\n",
    "sns.scatterplot(x='sqft_living', y='sqft_above', data=clean_df)\n",
    "\n",
    "plt.xlabel('sqft_living')\n",
    "plt.ylabel('sqft_above')\n",
    "plt.title('Scatter plot of sqft_living vs sqft_above')\n",
    "\n",
    "plt.show()\n"
   ]
  },
  {
   "cell_type": "markdown",
   "metadata": {},
   "source": [
    "We did realize earlier that sqft_living = sqft_above + sqft_basement so we won't be able to  reasonably keep both.\n",
    "\n",
    "As sqft_above is a component of sqft_living which is somewhat of a pre-engineered feature and with sqft_basement being a valuable kind of living space, **we choose to keep only sqft_living** which is more closely related to sqft_living15 for now and will make some test with sqft_above and both later on.\n",
    "\n",
    "We made some research which confirmed that basement add value to a house and comforts our choice."
   ]
  },
  {
   "cell_type": "code",
   "execution_count": 326,
   "metadata": {},
   "outputs": [],
   "source": [
    "# to_one_hot_encode = ['zipcode_class'] sent to ordinal\n",
    "to_ordinal_encode = ['grade', 'bathrooms', 'zipcode_class']\n",
    "to_scale = ['sqft_living', 'sqft_living15']\n",
    "select_features = to_ordinal_encode + to_scale # already_processed to_label_encode to_one_hot_encode\n",
    "\n",
    "X = clean_df[select_features]\n",
    "y = clean_df['price']  # Target\n",
    "\n",
    "model_name = 'linear'\n",
    "\n",
    "X_train, X_test, y_train, y_test = train_test_split(X, y, test_size=0.3, \\\n",
    "    random_state=42) # np.random.randint(1, 20001) 42\n",
    "\n",
    "# Building Preprocessing Pipeline\n",
    "preprocessor = ColumnTransformer([\n",
    "    # ('imputer', SimpleImputer(strategy='most_frequent')),\n",
    "    # ('onehot', OneHotEncoder(), to_one_hot_encode),\n",
    "    ('ordinal', OrdinalEncoder(), to_ordinal_encode),\n",
    "    ('robust_scaler', RobustScaler(), to_scale), # RobustScaler/StandardScaler/MinMaxScaler\n",
    "], remainder='passthrough')  # passthrough/drop\n",
    "\n",
    "X_train_selected = pd.DataFrame(preprocessor.fit_transform(X_train),\n",
    "        columns=preprocessor.get_feature_names_out())\n",
    "X_test_selected = pd.DataFrame(preprocessor.fit_transform(X_test),\n",
    "        columns=preprocessor.get_feature_names_out())"
   ]
  },
  {
   "cell_type": "markdown",
   "metadata": {},
   "source": [
    "Visualizing how our dataframe was preprocessed"
   ]
  },
  {
   "cell_type": "code",
   "execution_count": 333,
   "metadata": {},
   "outputs": [
    {
     "data": {
      "text/html": [
       "<div>\n",
       "<style scoped>\n",
       "    .dataframe tbody tr th:only-of-type {\n",
       "        vertical-align: middle;\n",
       "    }\n",
       "\n",
       "    .dataframe tbody tr th {\n",
       "        vertical-align: top;\n",
       "    }\n",
       "\n",
       "    .dataframe thead th {\n",
       "        text-align: right;\n",
       "    }\n",
       "</style>\n",
       "<table border=\"1\" class=\"dataframe\">\n",
       "  <thead>\n",
       "    <tr style=\"text-align: right;\">\n",
       "      <th></th>\n",
       "      <th>ordinal__grade</th>\n",
       "      <th>ordinal__bathrooms</th>\n",
       "      <th>ordinal__zipcode_class</th>\n",
       "      <th>robust_scaler__sqft_living</th>\n",
       "      <th>robust_scaler__sqft_living15</th>\n",
       "    </tr>\n",
       "  </thead>\n",
       "  <tbody>\n",
       "    <tr>\n",
       "      <th>0</th>\n",
       "      <td>3.0</td>\n",
       "      <td>6.0</td>\n",
       "      <td>0.0</td>\n",
       "      <td>1.184466</td>\n",
       "      <td>1.643836</td>\n",
       "    </tr>\n",
       "  </tbody>\n",
       "</table>\n",
       "</div>"
      ],
      "text/plain": [
       "   ordinal__grade  ordinal__bathrooms  ordinal__zipcode_class  \\\n",
       "0             3.0                 6.0                     0.0   \n",
       "\n",
       "   robust_scaler__sqft_living  robust_scaler__sqft_living15  \n",
       "0                    1.184466                      1.643836  "
      ]
     },
     "execution_count": 333,
     "metadata": {},
     "output_type": "execute_result"
    }
   ],
   "source": [
    "X_test_selected.head(1)"
   ]
  },
  {
   "cell_type": "code",
   "execution_count": 334,
   "metadata": {},
   "outputs": [
    {
     "data": {
      "text/html": [
       "<div>\n",
       "<style scoped>\n",
       "    .dataframe tbody tr th:only-of-type {\n",
       "        vertical-align: middle;\n",
       "    }\n",
       "\n",
       "    .dataframe tbody tr th {\n",
       "        vertical-align: top;\n",
       "    }\n",
       "\n",
       "    .dataframe thead th {\n",
       "        text-align: right;\n",
       "    }\n",
       "</style>\n",
       "<table border=\"1\" class=\"dataframe\">\n",
       "  <thead>\n",
       "    <tr style=\"text-align: right;\">\n",
       "      <th></th>\n",
       "      <th>grade</th>\n",
       "      <th>bathrooms</th>\n",
       "      <th>zipcode_class</th>\n",
       "      <th>sqft_living</th>\n",
       "      <th>sqft_living15</th>\n",
       "    </tr>\n",
       "  </thead>\n",
       "  <tbody>\n",
       "    <tr>\n",
       "      <th>17279</th>\n",
       "      <td>8</td>\n",
       "      <td>2.25</td>\n",
       "      <td>3</td>\n",
       "      <td>1140</td>\n",
       "      <td>1140</td>\n",
       "    </tr>\n",
       "  </tbody>\n",
       "</table>\n",
       "</div>"
      ],
      "text/plain": [
       "       grade  bathrooms  zipcode_class  sqft_living  sqft_living15\n",
       "17279      8       2.25              3         1140           1140"
      ]
     },
     "execution_count": 334,
     "metadata": {},
     "output_type": "execute_result"
    }
   ],
   "source": [
    "X_test.head(1)"
   ]
  },
  {
   "cell_type": "code",
   "execution_count": 327,
   "metadata": {},
   "outputs": [
    {
     "name": "stdout",
     "output_type": "stream",
     "text": [
      "VIF (facteur d'inflation de la variance)\n",
      "                        feature       VIF\n",
      "0                ordinal__grade  8.907013\n",
      "1            ordinal__bathrooms  7.130774\n",
      "2        ordinal__zipcode_class  3.256897\n",
      "3    robust_scaler__sqft_living  2.720108\n",
      "4  robust_scaler__sqft_living15  2.457677\n"
     ]
    }
   ],
   "source": [
    "vif_data = pd.DataFrame()\n",
    "vif_data[\"feature\"] = list(X_train_selected)\n",
    "vif_data[\"VIF\"] = [variance_inflation_factor(X_train_selected, i)\n",
    "                          for i in range(len(X_train_selected.columns))]\n",
    "\n",
    "print('VIF (facteur d\\'inflation de la variance)')\n",
    "print(vif_data)"
   ]
  },
  {
   "cell_type": "code",
   "execution_count": 338,
   "metadata": {},
   "outputs": [
    {
     "data": {
      "text/html": [
       "<table class=\"simpletable\">\n",
       "<caption>OLS Regression Results</caption>\n",
       "<tr>\n",
       "  <th>Dep. Variable:</th>          <td>price</td>      <th>  R-squared:         </th>  <td>   0.742</td>  \n",
       "</tr>\n",
       "<tr>\n",
       "  <th>Model:</th>                   <td>OLS</td>       <th>  Adj. R-squared:    </th>  <td>   0.742</td>  \n",
       "</tr>\n",
       "<tr>\n",
       "  <th>Method:</th>             <td>Least Squares</td>  <th>  F-statistic:       </th>  <td>1.432e+04</td> \n",
       "</tr>\n",
       "<tr>\n",
       "  <th>Date:</th>             <td>Wed, 10 Apr 2024</td> <th>  Prob (F-statistic):</th>   <td>  0.00</td>   \n",
       "</tr>\n",
       "<tr>\n",
       "  <th>Time:</th>                 <td>16:27:41</td>     <th>  Log-Likelihood:    </th> <td>-2.5817e+05</td>\n",
       "</tr>\n",
       "<tr>\n",
       "  <th>No. Observations:</th>      <td> 19919</td>      <th>  AIC:               </th>  <td>5.163e+05</td> \n",
       "</tr>\n",
       "<tr>\n",
       "  <th>Df Residuals:</th>          <td> 19914</td>      <th>  BIC:               </th>  <td>5.164e+05</td> \n",
       "</tr>\n",
       "<tr>\n",
       "  <th>Df Model:</th>              <td>     4</td>      <th>                     </th>      <td> </td>     \n",
       "</tr>\n",
       "<tr>\n",
       "  <th>Covariance Type:</th>      <td>nonrobust</td>    <th>                     </th>      <td> </td>     \n",
       "</tr>\n",
       "</table>\n",
       "<table class=\"simpletable\">\n",
       "<tr>\n",
       "        <td></td>           <th>coef</th>     <th>std err</th>      <th>t</th>      <th>P>|t|</th>  <th>[0.025</th>    <th>0.975]</th>  \n",
       "</tr>\n",
       "<tr>\n",
       "  <th>const</th>         <td>-1.859e+05</td> <td> 6124.768</td> <td>  -30.355</td> <td> 0.000</td> <td>-1.98e+05</td> <td>-1.74e+05</td>\n",
       "</tr>\n",
       "<tr>\n",
       "  <th>zipcode_class</th> <td> 8.564e+04</td> <td>  570.849</td> <td>  150.021</td> <td> 0.000</td> <td> 8.45e+04</td> <td> 8.68e+04</td>\n",
       "</tr>\n",
       "<tr>\n",
       "  <th>grade</th>         <td> 3.598e+04</td> <td> 1087.751</td> <td>   33.079</td> <td> 0.000</td> <td> 3.38e+04</td> <td> 3.81e+04</td>\n",
       "</tr>\n",
       "<tr>\n",
       "  <th>sqft_living</th>   <td>  101.0381</td> <td>    1.610</td> <td>   62.766</td> <td> 0.000</td> <td>   97.883</td> <td>  104.193</td>\n",
       "</tr>\n",
       "<tr>\n",
       "  <th>sqft_living15</th> <td>   13.7010</td> <td>    1.898</td> <td>    7.217</td> <td> 0.000</td> <td>    9.980</td> <td>   17.422</td>\n",
       "</tr>\n",
       "</table>\n",
       "<table class=\"simpletable\">\n",
       "<tr>\n",
       "  <th>Omnibus:</th>       <td>2683.149</td> <th>  Durbin-Watson:     </th> <td>   1.971</td>\n",
       "</tr>\n",
       "<tr>\n",
       "  <th>Prob(Omnibus):</th>  <td> 0.000</td>  <th>  Jarque-Bera (JB):  </th> <td>5709.695</td>\n",
       "</tr>\n",
       "<tr>\n",
       "  <th>Skew:</th>           <td> 0.821</td>  <th>  Prob(JB):          </th> <td>    0.00</td>\n",
       "</tr>\n",
       "<tr>\n",
       "  <th>Kurtosis:</th>       <td> 5.045</td>  <th>  Cond. No.          </th> <td>2.45e+04</td>\n",
       "</tr>\n",
       "</table><br/><br/>Notes:<br/>[1] Standard Errors assume that the covariance matrix of the errors is correctly specified.<br/>[2] The condition number is large, 2.45e+04. This might indicate that there are<br/>strong multicollinearity or other numerical problems."
      ],
      "text/latex": [
       "\\begin{center}\n",
       "\\begin{tabular}{lclc}\n",
       "\\toprule\n",
       "\\textbf{Dep. Variable:}    &      price       & \\textbf{  R-squared:         } &      0.742   \\\\\n",
       "\\textbf{Model:}            &       OLS        & \\textbf{  Adj. R-squared:    } &      0.742   \\\\\n",
       "\\textbf{Method:}           &  Least Squares   & \\textbf{  F-statistic:       } &  1.432e+04   \\\\\n",
       "\\textbf{Date:}             & Wed, 10 Apr 2024 & \\textbf{  Prob (F-statistic):} &      0.00    \\\\\n",
       "\\textbf{Time:}             &     16:27:41     & \\textbf{  Log-Likelihood:    } & -2.5817e+05  \\\\\n",
       "\\textbf{No. Observations:} &       19919      & \\textbf{  AIC:               } &  5.163e+05   \\\\\n",
       "\\textbf{Df Residuals:}     &       19914      & \\textbf{  BIC:               } &  5.164e+05   \\\\\n",
       "\\textbf{Df Model:}         &           4      & \\textbf{                     } &              \\\\\n",
       "\\textbf{Covariance Type:}  &    nonrobust     & \\textbf{                     } &              \\\\\n",
       "\\bottomrule\n",
       "\\end{tabular}\n",
       "\\begin{tabular}{lcccccc}\n",
       "                        & \\textbf{coef} & \\textbf{std err} & \\textbf{t} & \\textbf{P$> |$t$|$} & \\textbf{[0.025} & \\textbf{0.975]}  \\\\\n",
       "\\midrule\n",
       "\\textbf{const}          &   -1.859e+05  &     6124.768     &   -30.355  &         0.000        &    -1.98e+05    &    -1.74e+05     \\\\\n",
       "\\textbf{zipcode\\_class} &    8.564e+04  &      570.849     &   150.021  &         0.000        &     8.45e+04    &     8.68e+04     \\\\\n",
       "\\textbf{grade}          &    3.598e+04  &     1087.751     &    33.079  &         0.000        &     3.38e+04    &     3.81e+04     \\\\\n",
       "\\textbf{sqft\\_living}   &     101.0381  &        1.610     &    62.766  &         0.000        &       97.883    &      104.193     \\\\\n",
       "\\textbf{sqft\\_living15} &      13.7010  &        1.898     &     7.217  &         0.000        &        9.980    &       17.422     \\\\\n",
       "\\bottomrule\n",
       "\\end{tabular}\n",
       "\\begin{tabular}{lclc}\n",
       "\\textbf{Omnibus:}       & 2683.149 & \\textbf{  Durbin-Watson:     } &    1.971  \\\\\n",
       "\\textbf{Prob(Omnibus):} &   0.000  & \\textbf{  Jarque-Bera (JB):  } & 5709.695  \\\\\n",
       "\\textbf{Skew:}          &   0.821  & \\textbf{  Prob(JB):          } &     0.00  \\\\\n",
       "\\textbf{Kurtosis:}      &   5.045  & \\textbf{  Cond. No.          } & 2.45e+04  \\\\\n",
       "\\bottomrule\n",
       "\\end{tabular}\n",
       "%\\caption{OLS Regression Results}\n",
       "\\end{center}\n",
       "\n",
       "Notes: \\newline\n",
       " [1] Standard Errors assume that the covariance matrix of the errors is correctly specified. \\newline\n",
       " [2] The condition number is large, 2.45e+04. This might indicate that there are \\newline\n",
       " strong multicollinearity or other numerical problems."
      ],
      "text/plain": [
       "<class 'statsmodels.iolib.summary.Summary'>\n",
       "\"\"\"\n",
       "                            OLS Regression Results                            \n",
       "==============================================================================\n",
       "Dep. Variable:                  price   R-squared:                       0.742\n",
       "Model:                            OLS   Adj. R-squared:                  0.742\n",
       "Method:                 Least Squares   F-statistic:                 1.432e+04\n",
       "Date:                Wed, 10 Apr 2024   Prob (F-statistic):               0.00\n",
       "Time:                        16:27:41   Log-Likelihood:            -2.5817e+05\n",
       "No. Observations:               19919   AIC:                         5.163e+05\n",
       "Df Residuals:                   19914   BIC:                         5.164e+05\n",
       "Df Model:                           4                                         \n",
       "Covariance Type:            nonrobust                                         \n",
       "=================================================================================\n",
       "                    coef    std err          t      P>|t|      [0.025      0.975]\n",
       "---------------------------------------------------------------------------------\n",
       "const         -1.859e+05   6124.768    -30.355      0.000   -1.98e+05   -1.74e+05\n",
       "zipcode_class  8.564e+04    570.849    150.021      0.000    8.45e+04    8.68e+04\n",
       "grade          3.598e+04   1087.751     33.079      0.000    3.38e+04    3.81e+04\n",
       "sqft_living     101.0381      1.610     62.766      0.000      97.883     104.193\n",
       "sqft_living15    13.7010      1.898      7.217      0.000       9.980      17.422\n",
       "==============================================================================\n",
       "Omnibus:                     2683.149   Durbin-Watson:                   1.971\n",
       "Prob(Omnibus):                  0.000   Jarque-Bera (JB):             5709.695\n",
       "Skew:                           0.821   Prob(JB):                         0.00\n",
       "Kurtosis:                       5.045   Cond. No.                     2.45e+04\n",
       "==============================================================================\n",
       "\n",
       "Notes:\n",
       "[1] Standard Errors assume that the covariance matrix of the errors is correctly specified.\n",
       "[2] The condition number is large, 2.45e+04. This might indicate that there are\n",
       "strong multicollinearity or other numerical problems.\n",
       "\"\"\""
      ]
     },
     "execution_count": 338,
     "metadata": {},
     "output_type": "execute_result"
    }
   ],
   "source": [
    "to_one_hot_encode = ['zipcode_class']\n",
    "to_ordinal_encode = ['grade']\n",
    "to_scale = ['sqft_living', 'sqft_living15']\n",
    "select_features = to_one_hot_encode + to_ordinal_encode + to_scale # already_processed to_label_encode\n",
    "\n",
    "X = clean_df[select_features]\n",
    "y = clean_df['price']  # Target\n",
    "\n",
    "# Let's check the p-values of our features before regularization\n",
    "ols = sm.OLS(y, sm.add_constant(X)).fit()\n",
    "ols.summary()"
   ]
  },
  {
   "cell_type": "markdown",
   "metadata": {},
   "source": [
    "Still No alerting multicolinearity, we goes on to running our first models."
   ]
  },
  {
   "cell_type": "markdown",
   "metadata": {},
   "source": [
    "Common sense and our earlier tests established sqft_living to be the most valuable single feature to use for running our first models."
   ]
  },
  {
   "cell_type": "markdown",
   "metadata": {},
   "source": [
    "## Machine Learning with Grid Search and a single feature"
   ]
  },
  {
   "cell_type": "markdown",
   "metadata": {},
   "source": [
    "### Linear Regression"
   ]
  },
  {
   "cell_type": "code",
   "execution_count": 335,
   "metadata": {},
   "outputs": [
    {
     "name": "stdout",
     "output_type": "stream",
     "text": [
      "100766\n",
      "# Average prediction error: ~100766.0000 (RMSE) (min-max:100766-100766), 21.264532042324202% of average price\n",
      "# Used features : 1 - ['sqft_living']\n"
     ]
    }
   ],
   "source": [
    "# to_ordinal_encode = ['grade', 'bathrooms', 'zipcode_class']\n",
    "to_scale = ['sqft_living'] #sqft_living15\n",
    "select_features = to_scale  #to_ordinal_encode\n",
    "\n",
    "model_name = 'linear'\n",
    "rmse_list = []\n",
    "for i in range(1):\n",
    "    X_train, X_test, y_train, y_test = train_test_split(X, y, test_size=0.3, \\\n",
    "        random_state=np.random.randint(1, 20001)) # np.random.randint(1, 20001) 42\n",
    "\n",
    "    # Building Pipeline\n",
    "    preprocessor = ColumnTransformer([\n",
    "        # ('imputer', SimpleImputer(strategy='most_frequent')),\n",
    "        # ('onehot', OneHotEncoder(), to_one_hot_encode),\n",
    "        # ('ordinal', OrdinalEncoder(), to_ordinal_encode),\n",
    "        ('robust_scaler', RobustScaler(), to_scale), # RobustScaler/StandardScaler/MinMaxScaler\n",
    "    ], remainder='passthrough')  # passthrough/drop\n",
    "\n",
    "    pipeline = Pipeline([\n",
    "        ('preprocessor', preprocessor),\n",
    "        ('linear_reg', LinearRegression())\n",
    "    ])\n",
    "\n",
    "    grid_search = GridSearchCV(\n",
    "        pipeline,\n",
    "        param_grid={\n",
    "            'linear_reg__fit_intercept': [True, False]\n",
    "        },\n",
    "        cv=5,\n",
    "        scoring=\"neg_root_mean_squared_error\")\n",
    "\n",
    "    grid_search.fit(X_train, y_train)\n",
    "    pipeline_tuned = grid_search.best_estimator_\n",
    "    # pipeline.fit(X_train, y_train)\n",
    "\n",
    "    # Is there a missing transform ? don't think so.\n",
    "    predicted_price = pipeline_tuned.predict(X_test)\n",
    "\n",
    "    rmse_score = round(np.sqrt(mean_squared_error(y_test, predicted_price)))\n",
    "    rmse_list.append(rmse_score)\n",
    "    save_model_if_best(rmse_score, pipeline_tuned, model_name)\n",
    "\n",
    "# Display RMSE\n",
    "print(f\"# Average prediction error: ~{round(np.mean(rmse_list)):.4f} (RMSE) (min-max:{round(min(rmse_list))}-{round(max(rmse_list))}), {np.mean(rmse_list)/clean_df.price.mean()*100}% of average price\")\n",
    "\n",
    "print(f\"# Used features : {len(select_features) } - {select_features}\") #/len(df.columns)"
   ]
  },
  {
   "cell_type": "code",
   "execution_count": null,
   "metadata": {},
   "outputs": [
    {
     "data": {
      "text/plain": [
       "{'linear_reg__fit_intercept': True}"
      ]
     },
     "execution_count": 406,
     "metadata": {},
     "output_type": "execute_result"
    }
   ],
   "source": [
    "grid_search.best_params_"
   ]
  },
  {
   "cell_type": "code",
   "execution_count": null,
   "metadata": {},
   "outputs": [
    {
     "data": {
      "text/plain": [
       "-161063.65443134742"
      ]
     },
     "execution_count": 407,
     "metadata": {},
     "output_type": "execute_result"
    }
   ],
   "source": [
    "cross_val_score(pipeline_tuned, X_test, y_test, scoring = 'neg_root_mean_squared_error').mean() # neg_mean_absolute_error neg_root_mean_squared_error"
   ]
  },
  {
   "cell_type": "markdown",
   "metadata": {},
   "source": [
    "### Ridge"
   ]
  },
  {
   "cell_type": "code",
   "execution_count": 364,
   "metadata": {},
   "outputs": [
    {
     "name": "stdout",
     "output_type": "stream",
     "text": [
      "# Average prediction error: ~101822.0000 (RMSE) (min-max:101822-101822), 21.487378496849484% of average price\n",
      "# Used features : 1 - ['sqft_living']\n"
     ]
    }
   ],
   "source": [
    "# to_ordinal_encode = ['grade', 'bathrooms', 'zipcode_class']\n",
    "to_scale = ['sqft_living'] #sqft_living15\n",
    "select_features = to_scale  #to_ordinal_encode\n",
    "\n",
    "model_name = 'ridge'\n",
    "rmse_list = []\n",
    "for i in range(1):\n",
    "    X_train, X_test, y_train, y_test = train_test_split(X, y, test_size=0.3, \\\n",
    "        random_state=np.random.randint(1, 20001)) # np.random.randint(1, 20001) 42\n",
    "\n",
    "    # Building Pipeline\n",
    "    preprocessor = ColumnTransformer([\n",
    "        # ('imputer', SimpleImputer(strategy='most_frequent')),\n",
    "        # ('onehot', OneHotEncoder(), to_one_hot_encode),\n",
    "        # ('ordinal', OrdinalEncoder(), to_ordinal_encode),\n",
    "        ('robust_scaler', RobustScaler(), to_scale), # RobustScaler/StandardScaler/MinMaxScaler\n",
    "    ], remainder='passthrough')  # passthrough/drop\n",
    "\n",
    "    pipeline = Pipeline([\n",
    "        ('preprocessor', preprocessor),\n",
    "        ('ridge', Ridge())\n",
    "    ])\n",
    "\n",
    "#fit\n",
    "\n",
    "    grid_search = GridSearchCV(\n",
    "        pipeline,\n",
    "        param_grid={\n",
    "            'ridge__alpha'           : [1,10, 0.1,0.01,0.001,0.0001,0],\n",
    "            \"ridge__fit_intercept\"   : [True, False],\n",
    "            \"ridge__solver\"          : ['svd', 'cholesky', 'lsqr', 'sparse_cg', 'sag', 'saga'],\n",
    "            \"ridge__max_iter\"        : [10000]\n",
    "        },\n",
    "        cv=5,\n",
    "        scoring=\"neg_root_mean_squared_error\")\n",
    "\n",
    "    grid_search.fit(X_train, y_train)\n",
    "    pipeline_tuned = grid_search.best_estimator_\n",
    "    # pipeline.fit(X_train, y_train)\n",
    "\n",
    "    # Is there a missing transform ? don't think so.\n",
    "    predicted_price = pipeline_tuned.predict(X_test)\n",
    "\n",
    "    rmse_score = round(np.sqrt(mean_squared_error(y_test, predicted_price)))\n",
    "    rmse_list.append(rmse_score)\n",
    "    save_model_if_best(rmse_score, pipeline_tuned, model_name)\n",
    "\n",
    "# Display RMSE\n",
    "print(f\"# Average prediction error: ~{round(np.mean(rmse_list)):.4f} (RMSE) (min-max:{round(min(rmse_list))}-{round(max(rmse_list))}), {np.mean(rmse_list)/clean_df.price.mean()*100}% of average price\")\n",
    "\n",
    "print(f\"# Used features : {len(select_features) } - {select_features}\") #/len(df.columns)"
   ]
  },
  {
   "cell_type": "code",
   "execution_count": 365,
   "metadata": {},
   "outputs": [
    {
     "data": {
      "text/plain": [
       "{'ridge__alpha': 0.1,\n",
       " 'ridge__fit_intercept': False,\n",
       " 'ridge__max_iter': 10000,\n",
       " 'ridge__solver': 'svd'}"
      ]
     },
     "execution_count": 365,
     "metadata": {},
     "output_type": "execute_result"
    }
   ],
   "source": [
    "grid_search.best_params_"
   ]
  },
  {
   "cell_type": "code",
   "execution_count": 366,
   "metadata": {},
   "outputs": [
    {
     "data": {
      "text/plain": [
       "-101872.93497919603"
      ]
     },
     "execution_count": 366,
     "metadata": {},
     "output_type": "execute_result"
    }
   ],
   "source": [
    "cross_val_score(pipeline_tuned, X_test, y_test, scoring = 'neg_root_mean_squared_error').mean() # neg_mean_absolute_error neg_root_mean_squared_error"
   ]
  },
  {
   "cell_type": "markdown",
   "metadata": {},
   "source": [
    "### DecisionTreeRegressor"
   ]
  },
  {
   "cell_type": "code",
   "execution_count": 367,
   "metadata": {},
   "outputs": [
    {
     "name": "stderr",
     "output_type": "stream",
     "text": [
      "/Users/julien.ract.mugnerot/.pyenv/versions/3.12.0/envs/apartment-hunter/lib/python3.12/site-packages/sklearn/model_selection/_validation.py:547: FitFailedWarning: \n",
      "147000 fits failed out of a total of 252000.\n",
      "The score on these train-test partitions for these parameters will be set to nan.\n",
      "If these failures are not expected, you can try to debug them by setting error_score='raise'.\n",
      "\n",
      "Below are more details about the failures:\n",
      "--------------------------------------------------------------------------------\n",
      "63000 fits failed with the following error:\n",
      "Traceback (most recent call last):\n",
      "  File \"/Users/julien.ract.mugnerot/.pyenv/versions/3.12.0/envs/apartment-hunter/lib/python3.12/site-packages/sklearn/model_selection/_validation.py\", line 895, in _fit_and_score\n",
      "    estimator.fit(X_train, y_train, **fit_params)\n",
      "  File \"/Users/julien.ract.mugnerot/.pyenv/versions/3.12.0/envs/apartment-hunter/lib/python3.12/site-packages/sklearn/base.py\", line 1474, in wrapper\n",
      "    return fit_method(estimator, *args, **kwargs)\n",
      "           ^^^^^^^^^^^^^^^^^^^^^^^^^^^^^^^^^^^^^^\n",
      "  File \"/Users/julien.ract.mugnerot/.pyenv/versions/3.12.0/envs/apartment-hunter/lib/python3.12/site-packages/sklearn/pipeline.py\", line 475, in fit\n",
      "    self._final_estimator.fit(Xt, y, **last_step_params[\"fit\"])\n",
      "  File \"/Users/julien.ract.mugnerot/.pyenv/versions/3.12.0/envs/apartment-hunter/lib/python3.12/site-packages/sklearn/base.py\", line 1467, in wrapper\n",
      "    estimator._validate_params()\n",
      "  File \"/Users/julien.ract.mugnerot/.pyenv/versions/3.12.0/envs/apartment-hunter/lib/python3.12/site-packages/sklearn/base.py\", line 666, in _validate_params\n",
      "    validate_parameter_constraints(\n",
      "  File \"/Users/julien.ract.mugnerot/.pyenv/versions/3.12.0/envs/apartment-hunter/lib/python3.12/site-packages/sklearn/utils/_param_validation.py\", line 95, in validate_parameter_constraints\n",
      "    raise InvalidParameterError(\n",
      "sklearn.utils._param_validation.InvalidParameterError: The 'max_features' parameter of DecisionTreeRegressor must be an int in the range [1, inf), a float in the range (0.0, 1.0], a str among {'sqrt', 'log2'} or None. Got 'auto' instead.\n",
      "\n",
      "--------------------------------------------------------------------------------\n",
      "21000 fits failed with the following error:\n",
      "Traceback (most recent call last):\n",
      "  File \"/Users/julien.ract.mugnerot/.pyenv/versions/3.12.0/envs/apartment-hunter/lib/python3.12/site-packages/sklearn/model_selection/_validation.py\", line 895, in _fit_and_score\n",
      "    estimator.fit(X_train, y_train, **fit_params)\n",
      "  File \"/Users/julien.ract.mugnerot/.pyenv/versions/3.12.0/envs/apartment-hunter/lib/python3.12/site-packages/sklearn/base.py\", line 1474, in wrapper\n",
      "    return fit_method(estimator, *args, **kwargs)\n",
      "           ^^^^^^^^^^^^^^^^^^^^^^^^^^^^^^^^^^^^^^\n",
      "  File \"/Users/julien.ract.mugnerot/.pyenv/versions/3.12.0/envs/apartment-hunter/lib/python3.12/site-packages/sklearn/pipeline.py\", line 475, in fit\n",
      "    self._final_estimator.fit(Xt, y, **last_step_params[\"fit\"])\n",
      "  File \"/Users/julien.ract.mugnerot/.pyenv/versions/3.12.0/envs/apartment-hunter/lib/python3.12/site-packages/sklearn/base.py\", line 1467, in wrapper\n",
      "    estimator._validate_params()\n",
      "  File \"/Users/julien.ract.mugnerot/.pyenv/versions/3.12.0/envs/apartment-hunter/lib/python3.12/site-packages/sklearn/base.py\", line 666, in _validate_params\n",
      "    validate_parameter_constraints(\n",
      "  File \"/Users/julien.ract.mugnerot/.pyenv/versions/3.12.0/envs/apartment-hunter/lib/python3.12/site-packages/sklearn/utils/_param_validation.py\", line 95, in validate_parameter_constraints\n",
      "    raise InvalidParameterError(\n",
      "sklearn.utils._param_validation.InvalidParameterError: The 'min_weight_fraction_leaf' parameter of DecisionTreeRegressor must be a float in the range [0.0, 0.5]. Got 0.6 instead.\n",
      "\n",
      "--------------------------------------------------------------------------------\n",
      "21000 fits failed with the following error:\n",
      "Traceback (most recent call last):\n",
      "  File \"/Users/julien.ract.mugnerot/.pyenv/versions/3.12.0/envs/apartment-hunter/lib/python3.12/site-packages/sklearn/model_selection/_validation.py\", line 895, in _fit_and_score\n",
      "    estimator.fit(X_train, y_train, **fit_params)\n",
      "  File \"/Users/julien.ract.mugnerot/.pyenv/versions/3.12.0/envs/apartment-hunter/lib/python3.12/site-packages/sklearn/base.py\", line 1474, in wrapper\n",
      "    return fit_method(estimator, *args, **kwargs)\n",
      "           ^^^^^^^^^^^^^^^^^^^^^^^^^^^^^^^^^^^^^^\n",
      "  File \"/Users/julien.ract.mugnerot/.pyenv/versions/3.12.0/envs/apartment-hunter/lib/python3.12/site-packages/sklearn/pipeline.py\", line 475, in fit\n",
      "    self._final_estimator.fit(Xt, y, **last_step_params[\"fit\"])\n",
      "  File \"/Users/julien.ract.mugnerot/.pyenv/versions/3.12.0/envs/apartment-hunter/lib/python3.12/site-packages/sklearn/base.py\", line 1467, in wrapper\n",
      "    estimator._validate_params()\n",
      "  File \"/Users/julien.ract.mugnerot/.pyenv/versions/3.12.0/envs/apartment-hunter/lib/python3.12/site-packages/sklearn/base.py\", line 666, in _validate_params\n",
      "    validate_parameter_constraints(\n",
      "  File \"/Users/julien.ract.mugnerot/.pyenv/versions/3.12.0/envs/apartment-hunter/lib/python3.12/site-packages/sklearn/utils/_param_validation.py\", line 95, in validate_parameter_constraints\n",
      "    raise InvalidParameterError(\n",
      "sklearn.utils._param_validation.InvalidParameterError: The 'min_weight_fraction_leaf' parameter of DecisionTreeRegressor must be a float in the range [0.0, 0.5]. Got 0.7 instead.\n",
      "\n",
      "--------------------------------------------------------------------------------\n",
      "21000 fits failed with the following error:\n",
      "Traceback (most recent call last):\n",
      "  File \"/Users/julien.ract.mugnerot/.pyenv/versions/3.12.0/envs/apartment-hunter/lib/python3.12/site-packages/sklearn/model_selection/_validation.py\", line 895, in _fit_and_score\n",
      "    estimator.fit(X_train, y_train, **fit_params)\n",
      "  File \"/Users/julien.ract.mugnerot/.pyenv/versions/3.12.0/envs/apartment-hunter/lib/python3.12/site-packages/sklearn/base.py\", line 1474, in wrapper\n",
      "    return fit_method(estimator, *args, **kwargs)\n",
      "           ^^^^^^^^^^^^^^^^^^^^^^^^^^^^^^^^^^^^^^\n",
      "  File \"/Users/julien.ract.mugnerot/.pyenv/versions/3.12.0/envs/apartment-hunter/lib/python3.12/site-packages/sklearn/pipeline.py\", line 475, in fit\n",
      "    self._final_estimator.fit(Xt, y, **last_step_params[\"fit\"])\n",
      "  File \"/Users/julien.ract.mugnerot/.pyenv/versions/3.12.0/envs/apartment-hunter/lib/python3.12/site-packages/sklearn/base.py\", line 1467, in wrapper\n",
      "    estimator._validate_params()\n",
      "  File \"/Users/julien.ract.mugnerot/.pyenv/versions/3.12.0/envs/apartment-hunter/lib/python3.12/site-packages/sklearn/base.py\", line 666, in _validate_params\n",
      "    validate_parameter_constraints(\n",
      "  File \"/Users/julien.ract.mugnerot/.pyenv/versions/3.12.0/envs/apartment-hunter/lib/python3.12/site-packages/sklearn/utils/_param_validation.py\", line 95, in validate_parameter_constraints\n",
      "    raise InvalidParameterError(\n",
      "sklearn.utils._param_validation.InvalidParameterError: The 'min_weight_fraction_leaf' parameter of DecisionTreeRegressor must be a float in the range [0.0, 0.5]. Got 0.8 instead.\n",
      "\n",
      "--------------------------------------------------------------------------------\n",
      "21000 fits failed with the following error:\n",
      "Traceback (most recent call last):\n",
      "  File \"/Users/julien.ract.mugnerot/.pyenv/versions/3.12.0/envs/apartment-hunter/lib/python3.12/site-packages/sklearn/model_selection/_validation.py\", line 895, in _fit_and_score\n",
      "    estimator.fit(X_train, y_train, **fit_params)\n",
      "  File \"/Users/julien.ract.mugnerot/.pyenv/versions/3.12.0/envs/apartment-hunter/lib/python3.12/site-packages/sklearn/base.py\", line 1474, in wrapper\n",
      "    return fit_method(estimator, *args, **kwargs)\n",
      "           ^^^^^^^^^^^^^^^^^^^^^^^^^^^^^^^^^^^^^^\n",
      "  File \"/Users/julien.ract.mugnerot/.pyenv/versions/3.12.0/envs/apartment-hunter/lib/python3.12/site-packages/sklearn/pipeline.py\", line 475, in fit\n",
      "    self._final_estimator.fit(Xt, y, **last_step_params[\"fit\"])\n",
      "  File \"/Users/julien.ract.mugnerot/.pyenv/versions/3.12.0/envs/apartment-hunter/lib/python3.12/site-packages/sklearn/base.py\", line 1467, in wrapper\n",
      "    estimator._validate_params()\n",
      "  File \"/Users/julien.ract.mugnerot/.pyenv/versions/3.12.0/envs/apartment-hunter/lib/python3.12/site-packages/sklearn/base.py\", line 666, in _validate_params\n",
      "    validate_parameter_constraints(\n",
      "  File \"/Users/julien.ract.mugnerot/.pyenv/versions/3.12.0/envs/apartment-hunter/lib/python3.12/site-packages/sklearn/utils/_param_validation.py\", line 95, in validate_parameter_constraints\n",
      "    raise InvalidParameterError(\n",
      "sklearn.utils._param_validation.InvalidParameterError: The 'min_weight_fraction_leaf' parameter of DecisionTreeRegressor must be a float in the range [0.0, 0.5]. Got 0.9 instead.\n",
      "\n",
      "  warnings.warn(some_fits_failed_message, FitFailedWarning)\n"
     ]
    },
    {
     "name": "stdout",
     "output_type": "stream",
     "text": [
      "# Average prediction error: ~124773.0000 (RMSE) (min-max:124773-124773), 26.330701392502608% of average price\n",
      "# Used features : 1 - ['sqft_living']\n"
     ]
    },
    {
     "name": "stderr",
     "output_type": "stream",
     "text": [
      "/Users/julien.ract.mugnerot/.pyenv/versions/3.12.0/envs/apartment-hunter/lib/python3.12/site-packages/sklearn/model_selection/_search.py:1051: UserWarning: One or more of the test scores are non-finite: [nan nan nan ... nan nan nan]\n",
      "  warnings.warn(\n"
     ]
    }
   ],
   "source": [
    "# to_ordinal_encode = ['grade', 'bathrooms', 'zipcode_class']\n",
    "to_scale = ['sqft_living'] #sqft_living15\n",
    "select_features = to_scale  #to_ordinal_encode\n",
    "\n",
    "model_name = 'decisionTree'\n",
    "rmse_list = []\n",
    "for i in range(1):\n",
    "    X_train, X_test, y_train, y_test = train_test_split(X, y, test_size=0.3, \\\n",
    "        random_state=np.random.randint(1, 20001)) # np.random.randint(1, 20001) 42\n",
    "\n",
    "    # Building Pipeline\n",
    "    preprocessor = ColumnTransformer([\n",
    "        # ('imputer', SimpleImputer(strategy='most_frequent')),\n",
    "        # ('onehot', OneHotEncoder(), to_one_hot_encode),\n",
    "        # ('ordinal', OrdinalEncoder(), to_ordinal_encode),\n",
    "        ('robust_scaler', RobustScaler(), to_scale), # RobustScaler/StandardScaler/MinMaxScaler\n",
    "    ], remainder='passthrough')  # passthrough/drop\n",
    "\n",
    "    pipeline = Pipeline([\n",
    "        ('preprocessor', preprocessor),\n",
    "        ('decision_tree', DecisionTreeRegressor())\n",
    "    ])\n",
    "\n",
    "    grid_search = GridSearchCV(\n",
    "        pipeline,\n",
    "        param_grid={\n",
    "            \"decision_tree__splitter\":[\"best\",\"random\"],\n",
    "            \"decision_tree__max_depth\" : [1,3,5,7,9,11,12],\n",
    "            \"decision_tree__min_samples_leaf\":[1,2,3,4,5,6,7,8,9,10],\n",
    "            \"decision_tree__min_weight_fraction_leaf\":[0.1,0.2,0.3,0.4,0.5,0.6,0.7,0.8,0.9],\n",
    "            \"decision_tree__max_features\":[\"auto\",\"log2\",\"sqrt\",None],\n",
    "            \"decision_tree__max_leaf_nodes\":[None,10,20,30,40,50,60,70,80,90] \n",
    "        },\n",
    "        cv=5,\n",
    "        scoring=\"neg_root_mean_squared_error\")\n",
    "\n",
    "    grid_search.fit(X_train, y_train)\n",
    "    pipeline_tuned = grid_search.best_estimator_\n",
    "    # pipeline.fit(X_train, y_train)\n",
    "\n",
    "    # Is there a missing transform ? don't think so.\n",
    "    predicted_price = pipeline_tuned.predict(X_test)\n",
    "\n",
    "    rmse_score = round(np.sqrt(mean_squared_error(y_test, predicted_price)))\n",
    "    rmse_list.append(rmse_score)\n",
    "    save_model_if_best(rmse_score, pipeline_tuned, model_name)\n",
    "\n",
    "# Display RMSE\n",
    "print(f\"# Average prediction error: ~{round(np.mean(rmse_list)):.4f} (RMSE) (min-max:{round(min(rmse_list))}-{round(max(rmse_list))}), {np.mean(rmse_list)/clean_df.price.mean()*100}% of average price\")\n",
    "\n",
    "\n",
    "print(f\"# Used features : {len(select_features) } - {select_features}\") #/len(df.columns)"
   ]
  },
  {
   "cell_type": "code",
   "execution_count": 368,
   "metadata": {},
   "outputs": [
    {
     "data": {
      "text/plain": [
       "{'decision_tree__max_depth': 5,\n",
       " 'decision_tree__max_features': None,\n",
       " 'decision_tree__max_leaf_nodes': None,\n",
       " 'decision_tree__min_samples_leaf': 1,\n",
       " 'decision_tree__min_weight_fraction_leaf': 0.1,\n",
       " 'decision_tree__splitter': 'best'}"
      ]
     },
     "execution_count": 368,
     "metadata": {},
     "output_type": "execute_result"
    }
   ],
   "source": [
    "grid_search.best_params_"
   ]
  },
  {
   "cell_type": "code",
   "execution_count": 369,
   "metadata": {},
   "outputs": [
    {
     "data": {
      "text/plain": [
       "-122875.27661094135"
      ]
     },
     "execution_count": 369,
     "metadata": {},
     "output_type": "execute_result"
    }
   ],
   "source": [
    "cross_val_score(pipeline_tuned, X_test, y_test, scoring = 'neg_root_mean_squared_error').mean() # neg_mean_absolute_error neg_root_mean_squared_error"
   ]
  },
  {
   "cell_type": "code",
   "execution_count": null,
   "metadata": {},
   "outputs": [],
   "source": []
  },
  {
   "cell_type": "markdown",
   "metadata": {},
   "source": [
    "## Machine Learning with Grid Search and multiple features"
   ]
  },
  {
   "cell_type": "markdown",
   "metadata": {},
   "source": [
    "### Linear Regression"
   ]
  },
  {
   "cell_type": "code",
   "execution_count": null,
   "metadata": {},
   "outputs": [
    {
     "name": "stdout",
     "output_type": "stream",
     "text": [
      "100766\n",
      "# Average prediction error: ~100766.0000 (RMSE) (min-max:100766-100766), 21.264532042324202% of average price\n",
      "# Used features : 1 - ['sqft_living']\n"
     ]
    }
   ],
   "source": [
    "to_ordinal_encode = ['grade', 'bathrooms', 'zipcode_class']\n",
    "to_scale = ['sqft_living', 'sqft_living15']\n",
    "select_features = to_scale + to_ordinal_encode\n",
    "\n",
    "model_name = 'linear'\n",
    "rmse_list = []\n",
    "for i in range(1):\n",
    "    X_train, X_test, y_train, y_test = train_test_split(X, y, test_size=0.3, \\\n",
    "        random_state=np.random.randint(1, 20001)) # np.random.randint(1, 20001) 42\n",
    "\n",
    "    # Building Pipeline\n",
    "    preprocessor = ColumnTransformer([\n",
    "        # ('imputer', SimpleImputer(strategy='most_frequent')),\n",
    "        # ('onehot', OneHotEncoder(), to_one_hot_encode),\n",
    "        ('ordinal', OrdinalEncoder(), to_ordinal_encode),\n",
    "        ('robust_scaler', RobustScaler(), to_scale), # RobustScaler/StandardScaler/MinMaxScaler\n",
    "    ], remainder='passthrough')  # passthrough/drop\n",
    "\n",
    "    pipeline = Pipeline([\n",
    "        ('preprocessor', preprocessor),\n",
    "        ('linear_reg', LinearRegression())\n",
    "    ])\n",
    "\n",
    "    grid_search = GridSearchCV(\n",
    "        pipeline,\n",
    "        param_grid={\n",
    "            'linear_reg__fit_intercept': [True, False]\n",
    "        },\n",
    "        cv=5,\n",
    "        scoring=\"neg_root_mean_squared_error\")\n",
    "\n",
    "    grid_search.fit(X_train, y_train)\n",
    "    pipeline_tuned = grid_search.best_estimator_\n",
    "    # pipeline.fit(X_train, y_train)\n",
    "\n",
    "    # Is there a missing transform ? don't think so.\n",
    "    predicted_price = pipeline_tuned.predict(X_test)\n",
    "\n",
    "    rmse_score = round(np.sqrt(mean_squared_error(y_test, predicted_price)))\n",
    "    rmse_list.append(rmse_score)\n",
    "    save_model_if_best(rmse_score, pipeline_tuned, model_name)\n",
    "\n",
    "# Display RMSE\n",
    "print(f\"# Average prediction error: ~{round(np.mean(rmse_list)):.4f} (RMSE) (min-max:{round(min(rmse_list))}-{round(max(rmse_list))}), {np.mean(rmse_list)/clean_df.price.mean()*100}% of average price\")\n",
    "\n",
    "print(f\"# Used features : {len(select_features) } - {select_features}\") #/len(df.columns)"
   ]
  },
  {
   "cell_type": "code",
   "execution_count": null,
   "metadata": {},
   "outputs": [
    {
     "data": {
      "text/plain": [
       "{'linear_reg__fit_intercept': True}"
      ]
     },
     "metadata": {},
     "output_type": "display_data"
    }
   ],
   "source": [
    "grid_search.best_params_"
   ]
  },
  {
   "cell_type": "code",
   "execution_count": null,
   "metadata": {},
   "outputs": [
    {
     "data": {
      "text/plain": [
       "-161063.65443134742"
      ]
     },
     "metadata": {},
     "output_type": "display_data"
    }
   ],
   "source": [
    "cross_val_score(pipeline_tuned, X_test, y_test, scoring = 'neg_root_mean_squared_error').mean() # neg_mean_absolute_error neg_root_mean_squared_error"
   ]
  },
  {
   "cell_type": "markdown",
   "metadata": {},
   "source": [
    "### Ridge"
   ]
  },
  {
   "cell_type": "code",
   "execution_count": null,
   "metadata": {},
   "outputs": [
    {
     "name": "stdout",
     "output_type": "stream",
     "text": [
      "# Average prediction error: ~101822.0000 (RMSE) (min-max:101822-101822), 21.487378496849484% of average price\n",
      "# Used features : 1 - ['sqft_living']\n"
     ]
    }
   ],
   "source": [
    "to_ordinal_encode = ['grade', 'bathrooms', 'zipcode_class']\n",
    "to_scale = ['sqft_living', 'sqft_living15']\n",
    "select_features = to_scale + to_ordinal_encode\n",
    "\n",
    "model_name = 'ridge'\n",
    "rmse_list = []\n",
    "for i in range(1):\n",
    "    X_train, X_test, y_train, y_test = train_test_split(X, y, test_size=0.3, \\\n",
    "        random_state=np.random.randint(1, 20001)) # np.random.randint(1, 20001) 42\n",
    "\n",
    "    # Building Pipeline\n",
    "    preprocessor = ColumnTransformer([\n",
    "        # ('imputer', SimpleImputer(strategy='most_frequent')),\n",
    "        # ('onehot', OneHotEncoder(), to_one_hot_encode),\n",
    "        ('ordinal', OrdinalEncoder(), to_ordinal_encode),\n",
    "        ('robust_scaler', RobustScaler(), to_scale), # RobustScaler/StandardScaler/MinMaxScaler\n",
    "    ], remainder='passthrough')  # passthrough/drop\n",
    "\n",
    "    pipeline = Pipeline([\n",
    "        ('preprocessor', preprocessor),\n",
    "        ('ridge', Ridge())\n",
    "    ])\n",
    "\n",
    "#fit\n",
    "\n",
    "    grid_search = GridSearchCV(\n",
    "        pipeline,\n",
    "        param_grid={\n",
    "            'ridge__alpha'           : [1,10, 0.1,0.01,0.001,0.0001,0],\n",
    "            \"ridge__fit_intercept\"   : [True, False],\n",
    "            \"ridge__solver\"          : ['svd', 'cholesky', 'lsqr', 'sparse_cg', 'sag', 'saga'],\n",
    "            \"ridge__max_iter\"        : [10000]\n",
    "        },\n",
    "        cv=5,\n",
    "        scoring=\"neg_root_mean_squared_error\")\n",
    "\n",
    "    grid_search.fit(X_train, y_train)\n",
    "    pipeline_tuned = grid_search.best_estimator_\n",
    "    # pipeline.fit(X_train, y_train)\n",
    "\n",
    "    # Is there a missing transform ? don't think so.\n",
    "    predicted_price = pipeline_tuned.predict(X_test)\n",
    "\n",
    "    rmse_score = round(np.sqrt(mean_squared_error(y_test, predicted_price)))\n",
    "    rmse_list.append(rmse_score)\n",
    "    save_model_if_best(rmse_score, pipeline_tuned, model_name)\n",
    "\n",
    "# Display RMSE\n",
    "print(f\"# Average prediction error: ~{round(np.mean(rmse_list)):.4f} (RMSE) (min-max:{round(min(rmse_list))}-{round(max(rmse_list))}), {np.mean(rmse_list)/clean_df.price.mean()*100}% of average price\")\n",
    "\n",
    "print(f\"# Used features : {len(select_features) } - {select_features}\") #/len(df.columns)"
   ]
  },
  {
   "cell_type": "code",
   "execution_count": null,
   "metadata": {},
   "outputs": [
    {
     "data": {
      "text/plain": [
       "{'ridge__alpha': 0.1,\n",
       " 'ridge__fit_intercept': False,\n",
       " 'ridge__max_iter': 10000,\n",
       " 'ridge__solver': 'svd'}"
      ]
     },
     "metadata": {},
     "output_type": "display_data"
    }
   ],
   "source": [
    "grid_search.best_params_"
   ]
  },
  {
   "cell_type": "code",
   "execution_count": null,
   "metadata": {},
   "outputs": [
    {
     "data": {
      "text/plain": [
       "-101872.93497919603"
      ]
     },
     "metadata": {},
     "output_type": "display_data"
    }
   ],
   "source": [
    "cross_val_score(pipeline_tuned, X_test, y_test, scoring = 'neg_root_mean_squared_error').mean() # neg_mean_absolute_error neg_root_mean_squared_error"
   ]
  },
  {
   "cell_type": "markdown",
   "metadata": {},
   "source": [
    "### DecisionTreeRegressor"
   ]
  },
  {
   "cell_type": "code",
   "execution_count": null,
   "metadata": {},
   "outputs": [],
   "source": [
    "to_ordinal_encode = ['grade', 'bathrooms', 'zipcode_class']\n",
    "to_scale = ['sqft_living', 'sqft_living15']\n",
    "select_features = to_scale + to_ordinal_encode\n",
    "\n",
    "model_name = 'decisionTree'\n",
    "rmse_list = []\n",
    "for i in range(1):\n",
    "    X_train, X_test, y_train, y_test = train_test_split(X, y, test_size=0.3, \\\n",
    "        random_state=np.random.randint(1, 20001)) # np.random.randint(1, 20001) 42\n",
    "\n",
    "    # Building Pipeline\n",
    "    preprocessor = ColumnTransformer([\n",
    "        # ('imputer', SimpleImputer(strategy='most_frequent')),\n",
    "        # ('onehot', OneHotEncoder(), to_one_hot_encode),\n",
    "        ('ordinal', OrdinalEncoder(), to_ordinal_encode),\n",
    "        ('robust_scaler', RobustScaler(), to_scale), # RobustScaler/StandardScaler/MinMaxScaler\n",
    "    ], remainder='passthrough')  # passthrough/drop\n",
    "\n",
    "    pipeline = Pipeline([\n",
    "        ('preprocessor', preprocessor),\n",
    "        ('decision_tree', DecisionTreeRegressor())\n",
    "    ])\n",
    "\n",
    "    grid_search = GridSearchCV(\n",
    "        pipeline,\n",
    "        param_grid={\n",
    "            \"decision_tree__splitter\":[\"best\",\"random\"],\n",
    "            \"decision_tree__max_depth\" : [1,3,5,7,9,11,12],\n",
    "            \"decision_tree__min_samples_leaf\":[1,2,3,4,5,6,7,8,9,10],\n",
    "            \"decision_tree__min_weight_fraction_leaf\":[0.1,0.2,0.3,0.4,0.5,0.6,0.7,0.8,0.9],\n",
    "            \"decision_tree__max_features\":[\"auto\",\"log2\",\"sqrt\",None],\n",
    "            \"decision_tree__max_leaf_nodes\":[None,10,20,30,40,50,60,70,80,90] \n",
    "        },\n",
    "        cv=5,\n",
    "        scoring=\"neg_root_mean_squared_error\")\n",
    "\n",
    "    grid_search.fit(X_train, y_train)\n",
    "    pipeline_tuned = grid_search.best_estimator_\n",
    "    # pipeline.fit(X_train, y_train)\n",
    "\n",
    "    # Is there a missing transform ? don't think so.\n",
    "    predicted_price = pipeline_tuned.predict(X_test)\n",
    "\n",
    "    rmse_score = round(np.sqrt(mean_squared_error(y_test, predicted_price)))\n",
    "    rmse_list.append(rmse_score)\n",
    "    save_model_if_best(rmse_score, pipeline_tuned, model_name)\n",
    "\n",
    "# Display RMSE\n",
    "print(f\"# Average prediction error: ~{round(np.mean(rmse_list)):.4f} (RMSE) (min-max:{round(min(rmse_list))}-{round(max(rmse_list))}), {np.mean(rmse_list)/clean_df.price.mean()*100}% of average price\")\n",
    "\n",
    "\n",
    "print(f\"# Used features : {len(select_features) } - {select_features}\") #/len(df.columns)"
   ]
  },
  {
   "cell_type": "code",
   "execution_count": null,
   "metadata": {},
   "outputs": [],
   "source": [
    "grid_search.best_params_"
   ]
  },
  {
   "cell_type": "code",
   "execution_count": null,
   "metadata": {},
   "outputs": [],
   "source": [
    "cross_val_score(pipeline_tuned, X_test, y_test, scoring = 'neg_root_mean_squared_error').mean() # neg_mean_absolute_error neg_root_mean_squared_error"
   ]
  },
  {
   "cell_type": "markdown",
   "metadata": {},
   "source": [
    "# Project Conclusion"
   ]
  },
  {
   "cell_type": "markdown",
   "metadata": {},
   "source": [
    "Well, our result are meh"
   ]
  },
  {
   "cell_type": "code",
   "execution_count": null,
   "metadata": {},
   "outputs": [],
   "source": [
    "from sklearn.pipeline import make_pipeline\n",
    "\n",
    "pipeline = make_pipeline(RobustScaler(), LinearRegression())\n",
    "pipeline.fit(X_train, y_train)\n",
    "\n",
    "explainer = lime.lime_tabular.LimeTabularExplainer(X_train.values, mode='regression')\n",
    "\n",
    "instance = X_test.iloc[0]\n",
    "\n",
    "\n",
    "explanation = explainer.explain_instance(instance.values, pipeline.predict, num_features=len(instance))\n",
    "\n",
    "\n",
    "explanation.show_in_notebook()\n",
    "X_train.columns"
   ]
  },
  {
   "cell_type": "code",
   "execution_count": null,
   "metadata": {},
   "outputs": [],
   "source": []
  },
  {
   "cell_type": "code",
   "execution_count": null,
   "metadata": {},
   "outputs": [],
   "source": []
  },
  {
   "cell_type": "code",
   "execution_count": null,
   "metadata": {},
   "outputs": [],
   "source": []
  },
  {
   "cell_type": "code",
   "execution_count": null,
   "metadata": {},
   "outputs": [],
   "source": []
  },
  {
   "cell_type": "code",
   "execution_count": null,
   "metadata": {},
   "outputs": [],
   "source": []
  },
  {
   "cell_type": "code",
   "execution_count": null,
   "metadata": {},
   "outputs": [],
   "source": []
  },
  {
   "cell_type": "code",
   "execution_count": null,
   "metadata": {},
   "outputs": [],
   "source": []
  },
  {
   "cell_type": "code",
   "execution_count": null,
   "metadata": {},
   "outputs": [],
   "source": []
  },
  {
   "cell_type": "code",
   "execution_count": null,
   "metadata": {},
   "outputs": [],
   "source": []
  },
  {
   "cell_type": "code",
   "execution_count": null,
   "metadata": {},
   "outputs": [],
   "source": []
  },
  {
   "cell_type": "code",
   "execution_count": null,
   "metadata": {},
   "outputs": [],
   "source": []
  },
  {
   "cell_type": "markdown",
   "metadata": {},
   "source": []
  },
  {
   "cell_type": "code",
   "execution_count": null,
   "metadata": {},
   "outputs": [],
   "source": []
  },
  {
   "cell_type": "code",
   "execution_count": null,
   "metadata": {},
   "outputs": [],
   "source": []
  },
  {
   "cell_type": "code",
   "execution_count": null,
   "metadata": {},
   "outputs": [],
   "source": []
  },
  {
   "cell_type": "code",
   "execution_count": null,
   "metadata": {},
   "outputs": [],
   "source": []
  },
  {
   "cell_type": "code",
   "execution_count": null,
   "metadata": {},
   "outputs": [],
   "source": []
  },
  {
   "cell_type": "code",
   "execution_count": null,
   "metadata": {},
   "outputs": [],
   "source": []
  },
  {
   "cell_type": "code",
   "execution_count": null,
   "metadata": {},
   "outputs": [],
   "source": []
  },
  {
   "cell_type": "code",
   "execution_count": null,
   "metadata": {},
   "outputs": [],
   "source": []
  },
  {
   "cell_type": "code",
   "execution_count": null,
   "metadata": {},
   "outputs": [],
   "source": []
  },
  {
   "cell_type": "code",
   "execution_count": null,
   "metadata": {},
   "outputs": [],
   "source": []
  },
  {
   "cell_type": "code",
   "execution_count": null,
   "metadata": {},
   "outputs": [],
   "source": []
  },
  {
   "cell_type": "code",
   "execution_count": null,
   "metadata": {},
   "outputs": [],
   "source": []
  },
  {
   "cell_type": "code",
   "execution_count": null,
   "metadata": {},
   "outputs": [],
   "source": []
  },
  {
   "cell_type": "code",
   "execution_count": null,
   "metadata": {},
   "outputs": [],
   "source": []
  },
  {
   "cell_type": "code",
   "execution_count": null,
   "metadata": {},
   "outputs": [],
   "source": []
  },
  {
   "cell_type": "code",
   "execution_count": null,
   "metadata": {},
   "outputs": [],
   "source": []
  },
  {
   "cell_type": "code",
   "execution_count": null,
   "metadata": {},
   "outputs": [],
   "source": []
  },
  {
   "cell_type": "code",
   "execution_count": null,
   "metadata": {},
   "outputs": [],
   "source": []
  },
  {
   "cell_type": "code",
   "execution_count": null,
   "metadata": {},
   "outputs": [],
   "source": [
    "# Set the aesthetic style of the plots\n",
    "sns.set_theme(style=\"whitegrid\")\n",
    "\n",
    "#Numerical features for distribution analysis\n",
    "numerical_features = ['age', 'avg_glucose_level', 'bmi']\n",
    "\n",
    "# Plot the distribution of numerical features\n",
    "plt.figure(figsize=(15, 5))\n",
    "for i, feature in enumerate(numerical_features, 1):\n",
    "    plt.subplot(1, 3, i)\n",
    "    sns.histplot(df[feature], kde=True, bins=30, color='skyblue')\n",
    "    plt.title(f'Distribution of {feature}')\n",
    "    plt.xlabel(feature)\n",
    "    plt.ylabel('Frequency')\n",
    "plt.tight_layout()\n",
    "plt.show()\n",
    "\n",
    "\n",
    "\n",
    "#Categorical features for distribution analysis\n",
    "categorical_features = ['gender', 'hypertension', 'heart_disease', 'ever_married', 'work_type', 'Residence_type', 'smoking_status']\n",
    "\n",
    "# Plot the distribution of categorical features\n",
    "plt.figure(figsize=(15, 15))\n",
    "for i, feature in enumerate(categorical_features, 1):\n",
    "    plt.subplot(3, 3, i)\n",
    "    sns.countplot(y=df[feature])\n",
    "    plt.title(f'Distribution of {feature}')\n",
    "plt.tight_layout()\n",
    "plt.show()"
   ]
  },
  {
   "cell_type": "code",
   "execution_count": null,
   "metadata": {},
   "outputs": [],
   "source": [
    "bins = [0, 2, 18, 35, 65, np.inf]\n",
    "labels = ['Infant', 'Child', 'Young Adult', 'Adult', 'Senior']\n",
    "df_age = data.copy()\n",
    "df_age['age_group'] = pd.cut(df_age['age'], bins=bins, labels=labels, right=False)\n",
    "\n",
    "sns.set_theme(style=\"whitegrid\")\n",
    "fig = plt.figure(figsize=(10, 10))\n",
    "sns.histplot(df_age[\"age_group\"], label=\"age_group\", kde=True)\n",
    "plt.title(\"Distribution of age_groupLevel\")"
   ]
  },
  {
   "cell_type": "code",
   "execution_count": null,
   "metadata": {},
   "outputs": [],
   "source": [
    "# Define the labels and values for the pie plot\n",
    "labels = ['No Stroke', 'Stroke']\n",
    "values = data.stroke.value_counts()\n",
    "\n",
    "# Define the explode values to separate the slices\n",
    "explode = (0, 0.1)\n",
    "\n",
    "# Plot the pie plot\n",
    "plt.pie(values, labels=labels, explode=explode, shadow=True, autopct='%1.1f%%')\n",
    "\n",
    "# Add a title to the plot\n",
    "plt.title('Distribution of Stroke')\n",
    "\n",
    "# Display the plot\n",
    "plt.show()\n"
   ]
  },
  {
   "cell_type": "code",
   "execution_count": null,
   "metadata": {},
   "outputs": [],
   "source": [
    "sns.set_theme(style=\"whitegrid\")\n",
    "fig = plt.figure(figsize=(10, 10))\n",
    "sns.histplot(data[\"avg_glucose_level\"], label=\"avg_glucose_level\", kde=True)\n",
    "plt.title(\"Distribution of Average Glucose Level\")\n"
   ]
  },
  {
   "cell_type": "code",
   "execution_count": null,
   "metadata": {},
   "outputs": [],
   "source": [
    "sns.set_theme(style=\"darkgrid\")\n",
    "fig = plt.figure(figsize=(10, 10))\n",
    "sns.histplot(data[\"bmi\"], label=\"bmi\", kde=True)\n",
    "plt.title(\"Distribution of BMI\")"
   ]
  },
  {
   "cell_type": "code",
   "execution_count": null,
   "metadata": {},
   "outputs": [],
   "source": [
    "plt.figure(figsize=(10, 10))\n",
    "sns.histplot(data,\n",
    "             x=\"bmi\", hue=\"stroke\",\n",
    "             element=\"step\",\n",
    "             stat=\"density\", common_norm=False)\n",
    "plt.title(\"Distribution of BMI by Stroke\")\n",
    "plt.show()\n"
   ]
  },
  {
   "cell_type": "code",
   "execution_count": null,
   "metadata": {},
   "outputs": [],
   "source": [
    "q1, q9 = data[\"bmi\"].quantile([0.1, 0.9])\n",
    "\n",
    "mask = data[\"bmi\"].between(q1, q9)\n",
    "mask.head()"
   ]
  },
  {
   "cell_type": "code",
   "execution_count": null,
   "metadata": {},
   "outputs": [],
   "source": [
    "q1, q9 = data[\"bmi\"].quantile([0.1, 0.9])\n",
    "mask = data[\"bmi\"].between(q1, q9)\n",
    "sns.boxplot(x=\"stroke\", y=\"bmi\" , data=data[mask])\n",
    "plt.xlabel(\"stroke\")\n",
    "plt.ylabel(\"bmi\")\n",
    "plt.title(\"Distribution of stroke/bmi Ratio, by Class\")"
   ]
  },
  {
   "cell_type": "code",
   "execution_count": null,
   "metadata": {},
   "outputs": [],
   "source": [
    "q1, q9 = data[\"avg_glucose_level\"].quantile([0.1, 0.9])\n",
    "mask = data[\"avg_glucose_level\"].between(q1, q9)\n",
    "sns.boxplot(x=\"stroke\", y=\"bmi\" , data=data[mask])\n",
    "plt.xlabel(\"stroke\")\n",
    "plt.ylabel(\"avg_glucose_level\")\n",
    "plt.title(\"Distribution of stroke/avg_glucose_level Ratio, by Class\")"
   ]
  },
  {
   "cell_type": "code",
   "execution_count": null,
   "metadata": {},
   "outputs": [],
   "source": [
    "#Randpom under sampling\n",
    "under_sampler = RandomUnderSampler(random_state=42)\n",
    "X_train_under, y_train_under = under_sampler.fit_resample(X_train, y_train)\n",
    "print(X_train_under.shape)\n",
    "X_train_under.head()"
   ]
  },
  {
   "cell_type": "code",
   "execution_count": null,
   "metadata": {},
   "outputs": [],
   "source": [
    "#Random over sampling\n",
    "over_sampler = RandomOverSampler(random_state=42)\n",
    "X_train_over, y_train_over = over_sampler.fit_resample(X_train, y_train)\n",
    "print(X_train_over.shape)\n",
    "X_train_over.head()"
   ]
  },
  {
   "cell_type": "code",
   "execution_count": null,
   "metadata": {},
   "outputs": [],
   "source": [
    "#Smote sampling\n",
    "sm = SMOTE(random_state=42)\n",
    "X_train_sm, y_train_sm = sm.fit_resample(X_train, y_train)\n",
    "print(X_train_sm.shape)\n",
    "X_train_sm.head()"
   ]
  },
  {
   "cell_type": "code",
   "execution_count": null,
   "metadata": {},
   "outputs": [],
   "source": [
    "# Get importances\n",
    "importances = model_reg.named_steps[\"decisiontreeclassifier\"].feature_importances_\n",
    "\n",
    "# Put importances into a Series\n",
    "feat_imp = pd.Series(importances, index=X_train_over.columns).sort_values()\n",
    "\n",
    "# Plot series\n",
    "feat_imp.tail(15).plot(kind=\"barh\")\n",
    "plt.xlabel(\"Gini Importance\")\n",
    "plt.ylabel(\"Feature\")\n",
    "plt.title(\"model_over Feature Importance\")"
   ]
  },
  {
   "cell_type": "code",
   "execution_count": null,
   "metadata": {},
   "outputs": [],
   "source": [
    "ConfusionMatrixDisplay.from_estimator(rf_model, X_test, y_test)"
   ]
  },
  {
   "cell_type": "code",
   "execution_count": null,
   "metadata": {},
   "outputs": [],
   "source": [
    "# custom_palette = {'Unknown': '#275375', 'formerly smoked': '#824b0d', 'never smoked': '#e08610', 'smokes': '#532e59'}\n",
    "\n",
    "# fig, axs = plt.subplots(1, 2, figsize=(10, 5))\n",
    "# sns.countplot(x='stroke', hue='smoking_status', data=clean_df[clean_df.stroke ==0], palette=custom_palette, ax=axs[0])\n",
    "# sns.countplot(x='stroke', hue='smoking_status', data=clean_df[clean_df.stroke ==1], palette=custom_palette, ax=axs[1])\n",
    "\n",
    "# axs[0].set_title('No Stroke')\n",
    "# axs[1].set_title('Stroke')\n",
    "# axs[1].legend_.remove()\n",
    "\n",
    "# plt.show()\n"
   ]
  }
 ],
 "metadata": {
  "kernelspec": {
   "display_name": "apartment-hunter",
   "language": "python",
   "name": "python3"
  },
  "language_info": {
   "codemirror_mode": {
    "name": "ipython",
    "version": 3
   },
   "file_extension": ".py",
   "mimetype": "text/x-python",
   "name": "python",
   "nbconvert_exporter": "python",
   "pygments_lexer": "ipython3",
   "version": "3.12.0"
  }
 },
 "nbformat": 4,
 "nbformat_minor": 2
}
